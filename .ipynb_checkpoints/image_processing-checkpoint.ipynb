{
 "metadata": {
  "name": "",
  "signature": "sha256:3319a07698c5b7b0ea4cf4f8c661d5cd0721707b9aa8db96347a8a87f8f437e0"
 },
 "nbformat": 3,
 "nbformat_minor": 0,
 "worksheets": [
  {
   "cells": [
    {
     "cell_type": "code",
     "collapsed": false,
     "input": [
      "from ecan.models import Ecan, Item, Back_Ground"
     ],
     "language": "python",
     "metadata": {},
     "outputs": [],
     "prompt_number": 1
    },
    {
     "cell_type": "code",
     "collapsed": false,
     "input": [
      "a = Item.objects.get(pk=589)"
     ],
     "language": "python",
     "metadata": {},
     "outputs": [],
     "prompt_number": 14
    },
    {
     "cell_type": "code",
     "collapsed": false,
     "input": [
      "print a.bg.back_ground"
     ],
     "language": "python",
     "metadata": {},
     "outputs": [
      {
       "output_type": "stream",
       "stream": "stdout",
       "text": [
        "back_ground/bg_im.jpg\n"
       ]
      }
     ],
     "prompt_number": 17
    },
    {
     "cell_type": "code",
     "collapsed": false,
     "input": [
      "a = Item.objects.filter(item_class=3)"
     ],
     "language": "python",
     "metadata": {},
     "outputs": [],
     "prompt_number": 21
    },
    {
     "cell_type": "code",
     "collapsed": false,
     "input": [
      "l = []\n",
      "for e in a:\n",
      "    l.append(e.pk)\n",
      "    print e.pk"
     ],
     "language": "python",
     "metadata": {},
     "outputs": [
      {
       "output_type": "stream",
       "stream": "stdout",
       "text": [
        "546\n",
        "547\n",
        "548\n",
        "549\n",
        "550\n",
        "551\n",
        "552\n",
        "553\n",
        "554\n",
        "555\n",
        "556\n",
        "557\n",
        "558\n"
       ]
      }
     ],
     "prompt_number": 26
    },
    {
     "cell_type": "code",
     "collapsed": false,
     "input": [
      "Item.objects.filter(pk__in=l)"
     ],
     "language": "python",
     "metadata": {},
     "outputs": [
      {
       "metadata": {},
       "output_type": "pyout",
       "prompt_number": 29,
       "text": [
        "[<Item: 3>, <Item: 3>, <Item: 3>, <Item: 3>, <Item: 3>, <Item: 3>, <Item: 3>, <Item: 3>, <Item: 3>, <Item: 3>, <Item: 3>, <Item: 3>, <Item: 3>]"
       ]
      }
     ],
     "prompt_number": 29
    },
    {
     "cell_type": "code",
     "collapsed": false,
     "input": [],
     "language": "python",
     "metadata": {},
     "outputs": [
      {
       "metadata": {},
       "output_type": "pyout",
       "prompt_number": 28,
       "text": [
        "[546, 547, 548, 549, 550, 551, 552, 553, 554, 555, 556, 557, 558]"
       ]
      }
     ],
     "prompt_number": 28
    },
    {
     "cell_type": "code",
     "collapsed": false,
     "input": [],
     "language": "python",
     "metadata": {},
     "outputs": []
    }
   ],
   "metadata": {}
  }
 ]
}