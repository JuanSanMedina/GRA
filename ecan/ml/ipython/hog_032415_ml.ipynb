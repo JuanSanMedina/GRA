{
 "metadata": {
  "name": "",
  "signature": "sha256:433090496c71e2afe69bb534ed0d60f700c6f4a85592ad3adfad1d0f7a89614a"
 },
 "nbformat": 3,
 "nbformat_minor": 0,
 "worksheets": [
  {
   "cells": [
    {
     "cell_type": "code",
     "collapsed": false,
     "input": [
      "# Add path where ecan application resides\n",
      "import sys\n",
      "sys.path.append('..')\n",
      "\n",
      "# Path where media resides\n",
      "media_path = 'api/site_media/media/'"
     ],
     "language": "python",
     "metadata": {},
     "outputs": [],
     "prompt_number": 10
    },
    {
     "cell_type": "code",
     "collapsed": false,
     "input": [
      "# needed to use foreing keys in models\n",
      "import django\n",
      "django.setup()"
     ],
     "language": "python",
     "metadata": {},
     "outputs": [],
     "prompt_number": 11
    },
    {
     "cell_type": "code",
     "collapsed": false,
     "input": [
      "import os\n",
      "from sklearn.metrics import confusion_matrix\n",
      "import matplotlib.pyplot as plt\n",
      "\n",
      "from skimage import color, exposure\n",
      "from PIL import Image\n",
      "from skimage.feature import hog\n",
      "\n",
      "from datetime import datetime\n",
      "import time\n",
      "\n",
      "import pandas as pd\n",
      "import numpy as np\n",
      "\n",
      "from sklearn.ensemble import RandomForestClassifier \n",
      "from sklearn import cross_validation\n",
      "from sklearn import metrics\n",
      "from sklearn import preprocessing"
     ],
     "language": "python",
     "metadata": {},
     "outputs": [],
     "prompt_number": 20
    },
    {
     "cell_type": "code",
     "collapsed": false,
     "input": [
      "from ecan.models import Item, Feature, Common_Name, Material, Shape, Logo"
     ],
     "language": "python",
     "metadata": {},
     "outputs": [],
     "prompt_number": 29
    },
    {
     "cell_type": "code",
     "collapsed": false,
     "input": [
      "Features = Feature.objects.all()\n",
      "FeIt = [e.item.pk for e in Features]"
     ],
     "language": "python",
     "metadata": {},
     "outputs": [],
     "prompt_number": 57
    },
    {
     "cell_type": "code",
     "collapsed": false,
     "input": [
      "Items = Item.objects.filter(pk__in=FeIt)"
     ],
     "language": "python",
     "metadata": {},
     "outputs": [],
     "prompt_number": 58
    },
    {
     "cell_type": "code",
     "collapsed": false,
     "input": [
      "attrs = np.array([[ \n",
      "        i.pk,\n",
      "        i.logo.value.encode('ascii','replace'),\n",
      "        i.shape.value.encode('ascii','replace'),\n",
      "        i.material.value.encode('ascii','replace'),\n",
      "        i.common_name.value.encode('ascii','replace'),\n",
      "        i.transparency.encode('ascii','replace'),\n",
      "        i.identifier.encode('ascii','replace'),\n",
      "        i.weight.encode('ascii','replace'),\n",
      "        i.im.path.encode('ascii','replace'),\n",
      "        i.bg.im.path.encode('ascii','replace'),] for i in Items])"
     ],
     "language": "python",
     "metadata": {},
     "outputs": [],
     "prompt_number": 60
    },
    {
     "cell_type": "code",
     "collapsed": false,
     "input": [
      "Common_Name_lab = [e.value for e in  Common_Name.objects.all()]\n",
      "Material_lab = [e.value for e in  Material.objects.all()]\n",
      "Shape_lab = [e.value for e in  Shape.objects.all()]\n",
      "Logo_lab = [e.value for e in  Logo.objects.all()]\n",
      "\n",
      "Common_Name_le = preprocessing.LabelEncoder()\n",
      "Material_le = preprocessing.LabelEncoder()\n",
      "Shape_le = preprocessing.LabelEncoder()\n",
      "Logo_le = preprocessing.LabelEncoder()\n",
      "\n",
      "Common_Name_le.fit(Common_Name_lab)\n",
      "Material_le.fit(Material_lab)\n",
      "Shape_le.fit(Shape_lab)\n",
      "Logo_le.fit(Logo_lab)"
     ],
     "language": "python",
     "metadata": {},
     "outputs": [
      {
       "metadata": {},
       "output_type": "pyout",
       "prompt_number": 61,
       "text": [
        "LabelEncoder()"
       ]
      }
     ],
     "prompt_number": 61
    },
    {
     "cell_type": "code",
     "collapsed": false,
     "input": [
      "data = np.array([e.feature for e in Feature.objects.all()])"
     ],
     "language": "python",
     "metadata": {},
     "outputs": [],
     "prompt_number": 32
    },
    {
     "cell_type": "code",
     "collapsed": false,
     "input": [
      "X = data\n",
      "target = Common_Name_le.transform(attrs[:, 4])\n",
      "# list(Common_Name_le.inverse_transform(target))"
     ],
     "language": "python",
     "metadata": {},
     "outputs": [],
     "prompt_number": 83
    },
    {
     "cell_type": "code",
     "collapsed": false,
     "input": [
      "clf = RandomForestClassifier(n_estimators = 100)\n",
      "# clf = clf.fit(dfi[df['t_t'] == 1],train)\n",
      "scores = cross_validation.cross_val_score(clf, X, target.tolist(), cv=10)"
     ],
     "language": "python",
     "metadata": {},
     "outputs": [],
     "prompt_number": 85
    }
   ],
   "metadata": {}
  }
 ]
}