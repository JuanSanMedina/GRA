{
 "metadata": {
  "name": "",
  "signature": "sha256:b396e0925194862f3a6e2ebc6477e4c87a91ad7f019c7b15195812ffa977ca05"
 },
 "nbformat": 3,
 "nbformat_minor": 0,
 "worksheets": [
  {
   "cells": [
    {
     "cell_type": "code",
     "collapsed": false,
     "input": [
      "import os\n",
      "import sys\n",
      "import time\n",
      "import pandas as pd\n",
      "import numpy as np\n",
      "import scipy.ndimage as nd\n",
      "import matplotlib.pyplot as plt\n",
      "from sklearn.ensemble import RandomForestClassifier \n",
      "from PIL import Image\n",
      "\n",
      "from sklearn import cross_validation\n",
      "from sklearn import metrics\n",
      "# from skimage.feature import hog\n",
      "# import cv2\n",
      "# from skimage import data, color, exposure"
     ],
     "language": "python",
     "metadata": {},
     "outputs": [],
     "prompt_number": 2
    },
    {
     "cell_type": "code",
     "collapsed": false,
     "input": [
      "media_path = '/pi_cam'"
     ],
     "language": "python",
     "metadata": {},
     "outputs": [],
     "prompt_number": 3
    },
    {
     "cell_type": "code",
     "collapsed": false,
     "input": [
      "df = pd.read_csv('item.csv')\n",
      "data = np.array([np.array(Image.open(im)).flatten() for im in df['im']])\n",
      "target = np.array([k for k in df['k']])"
     ],
     "language": "python",
     "metadata": {},
     "outputs": [],
     "prompt_number": 4
    },
    {
     "cell_type": "code",
     "collapsed": false,
     "input": [
      "# clf = svm.SVC(kernel='linear', C=1)\n",
      "clf = RandomForestClassifier(n_estimators = 100)\n",
      "scores = cross_validation.cross_val_score(clf, data, target, cv=5)"
     ],
     "language": "python",
     "metadata": {},
     "outputs": []
    },
    {
     "cell_type": "code",
     "collapsed": false,
     "input": [
      "from skimage.feature import hog\n",
      "img = np.array(Image.open('../media_original/' + df['im'][5000]).convert('L'))\n",
      "fd, img_h = hog(img, orientations=8, pixels_per_cell=(8, 8), cells_per_block=(1, 1), visualise=True)\n",
      "\n",
      "ysize = 10.\n",
      "xsize = ysize*float(img.shape[1])/float(img.shape[0])\n",
      "\n",
      "fig, ax = plt.subplots(num=0,figsize=[xsize,ysize])\n",
      "fig.subplots_adjust(0,0,1,1)\n",
      "ax.axis('off')\n",
      "im = ax.imshow(img_h, cmap = 'bone')\n",
      "fig.canvas.draw()                "
     ],
     "language": "python",
     "metadata": {},
     "outputs": [],
     "prompt_number": 44
    },
    {
     "cell_type": "code",
     "collapsed": false,
     "input": [
      "img.shape"
     ],
     "language": "python",
     "metadata": {},
     "outputs": [
      {
       "metadata": {},
       "output_type": "pyout",
       "prompt_number": 35,
       "text": [
        "(768, 1024)"
       ]
      }
     ],
     "prompt_number": 35
    },
    {
     "cell_type": "code",
     "collapsed": false,
     "input": [
      "768*1024*8/64"
     ],
     "language": "python",
     "metadata": {},
     "outputs": [
      {
       "metadata": {},
       "output_type": "pyout",
       "prompt_number": 42,
       "text": [
        "98304"
       ]
      }
     ],
     "prompt_number": 42
    },
    {
     "cell_type": "code",
     "collapsed": false,
     "input": [
      "fd.shape"
     ],
     "language": "python",
     "metadata": {},
     "outputs": [
      {
       "metadata": {},
       "output_type": "pyout",
       "prompt_number": 38,
       "text": [
        "(98304,)"
       ]
      }
     ],
     "prompt_number": 38
    },
    {
     "cell_type": "code",
     "collapsed": false,
     "input": [
      "plt.hist(fd, bins=100)"
     ],
     "language": "python",
     "metadata": {},
     "outputs": [
      {
       "metadata": {},
       "output_type": "pyout",
       "prompt_number": 41,
       "text": [
        "(array([  1.24050000e+04,   2.37600000e+03,   6.01800000e+03,\n",
        "          4.63600000e+03,   3.58800000e+03,   3.78300000e+03,\n",
        "          3.72800000e+03,   3.32500000e+03,   3.24600000e+03,\n",
        "          3.20800000e+03,   3.19800000e+03,   3.17000000e+03,\n",
        "          3.07700000e+03,   2.90100000e+03,   2.83100000e+03,\n",
        "          2.71600000e+03,   2.68800000e+03,   2.50800000e+03,\n",
        "          2.41200000e+03,   2.34100000e+03,   2.03200000e+03,\n",
        "          1.98000000e+03,   1.80700000e+03,   1.62100000e+03,\n",
        "          1.57300000e+03,   1.38000000e+03,   1.29900000e+03,\n",
        "          1.18500000e+03,   1.14900000e+03,   1.06600000e+03,\n",
        "          9.41000000e+02,   8.66000000e+02,   8.05000000e+02,\n",
        "          7.53000000e+02,   6.70000000e+02,   6.19000000e+02,\n",
        "          5.69000000e+02,   5.10000000e+02,   4.41000000e+02,\n",
        "          3.67000000e+02,   3.37000000e+02,   2.71000000e+02,\n",
        "          2.34000000e+02,   1.92000000e+02,   1.81000000e+02,\n",
        "          1.37000000e+02,   1.11000000e+02,   8.90000000e+01,\n",
        "          9.20000000e+01,   6.00000000e+01,   4.70000000e+01,\n",
        "          5.60000000e+01,   3.40000000e+01,   3.40000000e+01,\n",
        "          2.70000000e+01,   3.50000000e+01,   3.40000000e+01,\n",
        "          2.40000000e+01,   2.50000000e+01,   2.60000000e+01,\n",
        "          1.80000000e+01,   2.70000000e+01,   1.70000000e+01,\n",
        "          1.80000000e+01,   2.30000000e+01,   9.00000000e+00,\n",
        "          1.70000000e+01,   1.00000000e+01,   1.20000000e+01,\n",
        "          1.60000000e+01,   1.10000000e+01,   1.10000000e+01,\n",
        "          1.00000000e+01,   1.60000000e+01,   1.40000000e+01,\n",
        "          1.60000000e+01,   1.00000000e+01,   7.00000000e+00,\n",
        "          1.40000000e+01,   1.40000000e+01,   1.30000000e+01,\n",
        "          7.00000000e+00,   1.20000000e+01,   8.00000000e+00,\n",
        "          8.00000000e+00,   1.60000000e+01,   1.70000000e+01,\n",
        "          9.00000000e+00,   1.60000000e+01,   1.60000000e+01,\n",
        "          1.20000000e+01,   6.00000000e+00,   8.00000000e+00,\n",
        "          8.00000000e+00,   9.00000000e+00,   3.00000000e+00,\n",
        "          5.00000000e+00,   6.00000000e+00,   0.00000000e+00,\n",
        "          1.00000000e+00]),\n",
        " array([ -4.45637734e-15,   9.38436573e-03,   1.87687315e-02,\n",
        "          2.81530972e-02,   3.75374629e-02,   4.69218286e-02,\n",
        "          5.63061944e-02,   6.56905601e-02,   7.50749258e-02,\n",
        "          8.44592915e-02,   9.38436573e-02,   1.03228023e-01,\n",
        "          1.12612389e-01,   1.21996754e-01,   1.31381120e-01,\n",
        "          1.40765486e-01,   1.50149852e-01,   1.59534217e-01,\n",
        "          1.68918583e-01,   1.78302949e-01,   1.87687315e-01,\n",
        "          1.97071680e-01,   2.06456046e-01,   2.15840412e-01,\n",
        "          2.25224777e-01,   2.34609143e-01,   2.43993509e-01,\n",
        "          2.53377875e-01,   2.62762240e-01,   2.72146606e-01,\n",
        "          2.81530972e-01,   2.90915338e-01,   3.00299703e-01,\n",
        "          3.09684069e-01,   3.19068435e-01,   3.28452800e-01,\n",
        "          3.37837166e-01,   3.47221532e-01,   3.56605898e-01,\n",
        "          3.65990263e-01,   3.75374629e-01,   3.84758995e-01,\n",
        "          3.94143361e-01,   4.03527726e-01,   4.12912092e-01,\n",
        "          4.22296458e-01,   4.31680823e-01,   4.41065189e-01,\n",
        "          4.50449555e-01,   4.59833921e-01,   4.69218286e-01,\n",
        "          4.78602652e-01,   4.87987018e-01,   4.97371384e-01,\n",
        "          5.06755749e-01,   5.16140115e-01,   5.25524481e-01,\n",
        "          5.34908846e-01,   5.44293212e-01,   5.53677578e-01,\n",
        "          5.63061944e-01,   5.72446309e-01,   5.81830675e-01,\n",
        "          5.91215041e-01,   6.00599407e-01,   6.09983772e-01,\n",
        "          6.19368138e-01,   6.28752504e-01,   6.38136869e-01,\n",
        "          6.47521235e-01,   6.56905601e-01,   6.66289967e-01,\n",
        "          6.75674332e-01,   6.85058698e-01,   6.94443064e-01,\n",
        "          7.03827430e-01,   7.13211795e-01,   7.22596161e-01,\n",
        "          7.31980527e-01,   7.41364892e-01,   7.50749258e-01,\n",
        "          7.60133624e-01,   7.69517990e-01,   7.78902355e-01,\n",
        "          7.88286721e-01,   7.97671087e-01,   8.07055453e-01,\n",
        "          8.16439818e-01,   8.25824184e-01,   8.35208550e-01,\n",
        "          8.44592915e-01,   8.53977281e-01,   8.63361647e-01,\n",
        "          8.72746013e-01,   8.82130378e-01,   8.91514744e-01,\n",
        "          9.00899110e-01,   9.10283476e-01,   9.19667841e-01,\n",
        "          9.29052207e-01,   9.38436573e-01]),\n",
        " <a list of 100 Patch objects>)"
       ]
      }
     ],
     "prompt_number": 41
    },
    {
     "cell_type": "code",
     "collapsed": false,
     "input": [
      "fd"
     ],
     "language": "python",
     "metadata": {},
     "outputs": [
      {
       "metadata": {},
       "output_type": "pyout",
       "prompt_number": 43,
       "text": [
        "array([  1.31639316e-01,   1.85696194e-01,   1.29294840e-01, ...,\n",
        "        -7.55472212e-17,   9.62328311e-03,   2.03977497e-15])"
       ]
      }
     ],
     "prompt_number": 43
    },
    {
     "cell_type": "code",
     "collapsed": false,
     "input": [],
     "language": "python",
     "metadata": {},
     "outputs": []
    }
   ],
   "metadata": {}
  }
 ]
}