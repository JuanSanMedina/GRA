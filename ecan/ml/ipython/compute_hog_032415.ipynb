{
 "metadata": {
  "name": "",
  "signature": "sha256:3f9c4d5484b11a09cde59fe9c1a3c3461583bd4c0356e30b568ae40644f8e821"
 },
 "nbformat": 3,
 "nbformat_minor": 0,
 "worksheets": [
  {
   "cells": [
    {
     "cell_type": "code",
     "collapsed": false,
     "input": [
      "import sys\n",
      "sys.path.append('../..')\n",
      "\n",
      "# needed to uses foreing keys in models\n",
      "import django\n",
      "django.setup()\n",
      "\n",
      "from PIL import Image\n",
      "from skimage.feature import hog\n",
      "from ecan.models import Item, Feature\n",
      "import numpy as np"
     ],
     "language": "python",
     "metadata": {},
     "outputs": [],
     "prompt_number": 2
    },
    {
     "cell_type": "code",
     "collapsed": false,
     "input": [
      "Items = Item.objects.all()\n",
      "Features = Feature.objects.all()\n",
      "\n",
      "d = {\n",
      "    'cells_per_block': (1, 1),\n",
      "    'orientations': 8,\n",
      "    'pixels_per_cell': (12, 12),\n",
      "    'normalise': True,\n",
      "    'visualise': False\n",
      "}\n",
      "name = 'hog_032415'\n",
      "\n",
      "for item in Items:\n",
      "    if not Feature.objects.filter(item=item, name='hog_032415'):\n",
      "        img = item.im.path.encode('ascii', 'replace')\n",
      "        img = Image.open(img).convert('L')\n",
      "        img = np.array(img)\n",
      "        ft = hog(img, **d)\n",
      "        feat = Feature(\n",
      "            name=name,\n",
      "            description=d,\n",
      "            feature=ft,\n",
      "            item=item\n",
      "        )\n",
      "        feat.save(force_insert=True)"
     ],
     "language": "python",
     "metadata": {},
     "outputs": [],
     "prompt_number": 8
    }
   ],
   "metadata": {}
  }
 ]
}