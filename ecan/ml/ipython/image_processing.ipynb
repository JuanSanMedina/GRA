{
 "metadata": {
  "name": "",
  "signature": "sha256:f9e57f18f6d3f7bdfc551749ef3088ae9ea869b76e1214cadbdaaf88040a55e4"
 },
 "nbformat": 3,
 "nbformat_minor": 0,
 "worksheets": [
  {
   "cells": [
    {
     "cell_type": "code",
     "collapsed": false,
     "input": [
      "import os\n",
      "import sys\n",
      "import time\n",
      "import pandas as pd\n",
      "import numpy as np\n",
      "import scipy.ndimage as nd\n",
      "import matplotlib.pyplot as plt\n",
      "from sklearn.ensemble import RandomForestClassifier \n",
      "# import cv2\n",
      "# from skimage import data, color, exposure\n",
      "from PIL import Image\n",
      "# from skimage.feature import hog"
     ],
     "language": "python",
     "metadata": {},
     "outputs": [],
     "prompt_number": 4
    },
    {
     "cell_type": "code",
     "collapsed": false,
     "input": [
      "# needed to uses foreing keys in models\n",
      "import django\n",
      "django.setup()"
     ],
     "language": "python",
     "metadata": {},
     "outputs": [],
     "prompt_number": 12
    },
    {
     "cell_type": "code",
     "collapsed": false,
     "input": [
      "import sys\n",
      "sys.path.append('..')"
     ],
     "language": "python",
     "metadata": {},
     "outputs": [],
     "prompt_number": 1
    },
    {
     "cell_type": "code",
     "collapsed": false,
     "input": [
      "from ecan.models import Ecan, Item, Back_Ground, Sample"
     ],
     "language": "python",
     "metadata": {},
     "outputs": [],
     "prompt_number": 2
    },
    {
     "cell_type": "code",
     "collapsed": false,
     "input": [
      "pks = [e.pk for e in Sample.objects.all()]"
     ],
     "language": "python",
     "metadata": {},
     "outputs": [
      {
       "metadata": {},
       "output_type": "pyout",
       "prompt_number": 10,
       "text": [
        "[<Sample: 1>, <Sample: 2>, <Sample: 3>, <Sample: 4>, <Sample: 5>, <Sample: 6>, <Sample: 7>, <Sample: 8>]"
       ]
      }
     ],
     "prompt_number": 10
    },
    {
     "cell_type": "code",
     "collapsed": false,
     "input": [
      "# Item.objects.filter(item_class = 0)"
     ],
     "language": "python",
     "metadata": {},
     "outputs": [],
     "prompt_number": 3
    },
    {
     "cell_type": "code",
     "collapsed": false,
     "input": [
      "media_path = 'api/site_media/media/'\n",
      "objects = Item.objects.all()\n",
      "pks = [e.pk for e in objects]\n",
      "ims = [e.im.path.encode('ascii','replace') for e in objects] \n",
      "bgs = [e.bg.im.path.encode('ascii','replace') for e in objects] \n",
      "i_class = [e.item_class.encode('ascii','replace') for e in objects] \n",
      "df = pd.DataFrame({'pk': pks, 'im': ims, 'bg': bgs, 'class': i_class})\n",
      "df['index'] = df['pk']\n",
      "df = df.set_index('index')"
     ],
     "language": "python",
     "metadata": {},
     "outputs": [
      {
       "ename": "NameError",
       "evalue": "name 'pd' is not defined",
       "output_type": "pyerr",
       "traceback": [
        "\u001b[0;31m---------------------------------------------------------------------------\u001b[0m\n\u001b[0;31mNameError\u001b[0m                                 Traceback (most recent call last)",
        "\u001b[0;32m<ipython-input-13-53e894623224>\u001b[0m in \u001b[0;36m<module>\u001b[0;34m()\u001b[0m\n\u001b[1;32m      5\u001b[0m \u001b[0mbgs\u001b[0m \u001b[0;34m=\u001b[0m \u001b[0;34m[\u001b[0m\u001b[0me\u001b[0m\u001b[0;34m.\u001b[0m\u001b[0mbg\u001b[0m\u001b[0;34m.\u001b[0m\u001b[0mim\u001b[0m\u001b[0;34m.\u001b[0m\u001b[0mpath\u001b[0m\u001b[0;34m.\u001b[0m\u001b[0mencode\u001b[0m\u001b[0;34m(\u001b[0m\u001b[0;34m'ascii'\u001b[0m\u001b[0;34m,\u001b[0m\u001b[0;34m'replace'\u001b[0m\u001b[0;34m)\u001b[0m \u001b[0;32mfor\u001b[0m \u001b[0me\u001b[0m \u001b[0;32min\u001b[0m \u001b[0mobjects\u001b[0m\u001b[0;34m]\u001b[0m\u001b[0;34m\u001b[0m\u001b[0m\n\u001b[1;32m      6\u001b[0m \u001b[0mi_class\u001b[0m \u001b[0;34m=\u001b[0m \u001b[0;34m[\u001b[0m\u001b[0me\u001b[0m\u001b[0;34m.\u001b[0m\u001b[0mitem_class\u001b[0m\u001b[0;34m.\u001b[0m\u001b[0mencode\u001b[0m\u001b[0;34m(\u001b[0m\u001b[0;34m'ascii'\u001b[0m\u001b[0;34m,\u001b[0m\u001b[0;34m'replace'\u001b[0m\u001b[0;34m)\u001b[0m \u001b[0;32mfor\u001b[0m \u001b[0me\u001b[0m \u001b[0;32min\u001b[0m \u001b[0mobjects\u001b[0m\u001b[0;34m]\u001b[0m\u001b[0;34m\u001b[0m\u001b[0m\n\u001b[0;32m----> 7\u001b[0;31m \u001b[0mdf\u001b[0m \u001b[0;34m=\u001b[0m \u001b[0mpd\u001b[0m\u001b[0;34m.\u001b[0m\u001b[0mDataFrame\u001b[0m\u001b[0;34m(\u001b[0m\u001b[0;34m{\u001b[0m\u001b[0;34m'pk'\u001b[0m\u001b[0;34m:\u001b[0m \u001b[0mpks\u001b[0m\u001b[0;34m,\u001b[0m \u001b[0;34m'im'\u001b[0m\u001b[0;34m:\u001b[0m \u001b[0mims\u001b[0m\u001b[0;34m,\u001b[0m \u001b[0;34m'bg'\u001b[0m\u001b[0;34m:\u001b[0m \u001b[0mbgs\u001b[0m\u001b[0;34m,\u001b[0m \u001b[0;34m'class'\u001b[0m\u001b[0;34m:\u001b[0m \u001b[0mi_class\u001b[0m\u001b[0;34m}\u001b[0m\u001b[0;34m)\u001b[0m\u001b[0;34m\u001b[0m\u001b[0m\n\u001b[0m\u001b[1;32m      8\u001b[0m \u001b[0mdf\u001b[0m\u001b[0;34m[\u001b[0m\u001b[0;34m'index'\u001b[0m\u001b[0;34m]\u001b[0m \u001b[0;34m=\u001b[0m \u001b[0mdf\u001b[0m\u001b[0;34m[\u001b[0m\u001b[0;34m'pk'\u001b[0m\u001b[0;34m]\u001b[0m\u001b[0;34m\u001b[0m\u001b[0m\n\u001b[1;32m      9\u001b[0m \u001b[0mdf\u001b[0m \u001b[0;34m=\u001b[0m \u001b[0mdf\u001b[0m\u001b[0;34m.\u001b[0m\u001b[0mset_index\u001b[0m\u001b[0;34m(\u001b[0m\u001b[0;34m'index'\u001b[0m\u001b[0;34m)\u001b[0m\u001b[0;34m\u001b[0m\u001b[0m\n",
        "\u001b[0;31mNameError\u001b[0m: name 'pd' is not defined"
       ]
      }
     ],
     "prompt_number": 13
    },
    {
     "cell_type": "code",
     "collapsed": false,
     "input": [],
     "language": "python",
     "metadata": {},
     "outputs": []
    },
    {
     "cell_type": "code",
     "collapsed": false,
     "input": [
      "classes = df['class'].unique().tolist()\n",
      "pks = {e: df[df['class'] == e]['pk']\\\n",
      "        [[np.random.randint(min(df[df['class'] == e]['pk']),max(df[df['class'] == e]['pk'])) \\\n",
      "          for n in range(50)]].tolist() for e in classes}\n",
      "pks_test = {e: df[df['class'] == e]['pk']\\\n",
      "        [[np.random.randint(min(df[df['class'] == e]['pk']),max(df[df['class'] == e]['pk'])) \\\n",
      "          for n in range(10)]].tolist() for e in classes}"
     ],
     "language": "python",
     "metadata": {},
     "outputs": [],
     "prompt_number": 91
    },
    {
     "cell_type": "code",
     "collapsed": false,
     "input": [
      "img = Image.open(df['im'][1000]).convert('L')\n",
      "img = img.resize((int(1024/8),int(768/8)))\n",
      "img = np.array(img)\n",
      "img = img.flatten()\n",
      "cols = [i for i in range(len(img))]\n",
      "dfi = pd.DataFrame(columns = cols)\n",
      "dfi_test = pd.DataFrame(columns = cols)"
     ],
     "language": "python",
     "metadata": {},
     "outputs": [],
     "prompt_number": 92
    },
    {
     "cell_type": "code",
     "collapsed": false,
     "input": [
      "for c in classes:\n",
      "    for i in pks[c]:\n",
      "        img = Image.open(df['im'][i]).convert('L')\n",
      "        img = img.resize((int(1024/8),int(768/8)))\n",
      "        img = np.array(img)\n",
      "        img = img.flatten()\n",
      "        dfi.loc[i] = img"
     ],
     "language": "python",
     "metadata": {},
     "outputs": [],
     "prompt_number": 93
    },
    {
     "cell_type": "code",
     "collapsed": false,
     "input": [
      "for c in classes:\n",
      "    for i in pks_test[c]:\n",
      "        img = Image.open(df['im'][i]).convert('L')\n",
      "        img = img.resize((int(1024/8),int(768/8)))\n",
      "        img = np.array(img)\n",
      "        img = img.flatten()\n",
      "        dfi_test.loc[i] = img"
     ],
     "language": "python",
     "metadata": {},
     "outputs": [],
     "prompt_number": 94
    },
    {
     "cell_type": "code",
     "collapsed": false,
     "input": [
      "for c in dfi:\n",
      "    dfi[c] = (dfi[c]-np.mean(dfi[c]))/np.std(dfi[c])\n",
      "for c in dfi_test:\n",
      "    dfi_test[c] = (dfi_test[c]-np.mean(dfi_test[c]))/np.std(dfi_test[c])"
     ],
     "language": "python",
     "metadata": {},
     "outputs": [],
     "prompt_number": 95
    },
    {
     "cell_type": "code",
     "collapsed": false,
     "input": [
      "N = dfi.join(df)['class'].astype(float)\n",
      "T = dfi_test.join(df)['class'].astype(float)"
     ],
     "language": "python",
     "metadata": {},
     "outputs": [],
     "prompt_number": 96
    },
    {
     "cell_type": "code",
     "collapsed": false,
     "input": [
      "forest = RandomForestClassifier(n_estimators = 100)\n",
      "forest = forest.fit(dfi,N)\n",
      "output = forest.predict(dfi_test)"
     ],
     "language": "python",
     "metadata": {},
     "outputs": [],
     "prompt_number": 97
    },
    {
     "cell_type": "code",
     "collapsed": false,
     "input": [
      "# output"
     ],
     "language": "python",
     "metadata": {},
     "outputs": [],
     "prompt_number": 98
    },
    {
     "cell_type": "code",
     "collapsed": false,
     "input": [
      "# help(forest.fit)"
     ],
     "language": "python",
     "metadata": {},
     "outputs": [],
     "prompt_number": 14
    },
    {
     "cell_type": "code",
     "collapsed": false,
     "input": [
      "# help(hog)"
     ],
     "language": "python",
     "metadata": {},
     "outputs": [],
     "prompt_number": 15
    },
    {
     "cell_type": "code",
     "collapsed": false,
     "input": [
      "img = np.array(Image.open(df['im'][350]).convert('L'))\n",
      "# bg = np.array(Image.open(df['bg'][350]).convert('L'))\n",
      "# fd, hog_image = hog(img, orientations=8, pixels_per_cell=(16, 16),\n",
      "#                     cells_per_block=(1, 1), visualise=True)\n",
      "# img = hog_image\n",
      "# ysize = 10.\n",
      "# xsize = ysize*float(img.shape[1])/float(img.shape[0])\n",
      "\n",
      "# fig5, ax5 = plt.subplots(num=5,figsize=[xsize,ysize])\n",
      "# fig5.subplots_adjust(0,0,1,1)\n",
      "# ax5.axis('off')\n",
      "# im5 = ax5.imshow(img, cmap = 'bone')\n",
      "# fig5.canvas.draw()"
     ],
     "language": "python",
     "metadata": {},
     "outputs": [],
     "prompt_number": 114
    },
    {
     "cell_type": "code",
     "collapsed": false,
     "input": [
      "bdilation = nd.morphology.binary_dilation\n",
      "berosion = nd.morphology.binary_erosion\n",
      "# meas_label = nd.measurements.label\n",
      "nrow = img.shape[0]\n",
      "ncol = img.shape[1]"
     ],
     "language": "python",
     "metadata": {},
     "outputs": [],
     "prompt_number": 115
    },
    {
     "cell_type": "code",
     "collapsed": false,
     "input": [
      "# fgr = np.zeros([img.shape[0],img.shape[1]],dtype=int)\n",
      "img = np.array(Image.open(df['im'][1585]))\n",
      "# img2 = Image.open(df['im'][1585]).resize((int(1024/8),int(768/8)))\n",
      "bg = np.array(Image.open(df['bg'][100]))\n",
      "mask = np.abs(img.mean(-1) - bg.mean(-1)) > 15\n",
      "# # mask = np.abs(1.0*img - 1.0*bg).max(-1) > 15\n",
      "# # mask = np.abs(1.0*img - 1.0*bg).mean() > 15\n",
      "# mask = bdilation(berosion(mask, iterations=4),iterations=2)\n",
      "# # # labs = meas_label(mask)\n",
      "\n",
      "# inb = (img.mean(-1)*mask).clip(0,255).astype(np.uint8)\n",
      "# inb[inb == 0] = 255\n",
      "\n",
      "im = Image.fromarray(inb).resize((int(1024/8),int(768/8)))\n",
      "\n",
      "ysize = 10.\n",
      "xsize = ysize*float(img.shape[1])/float(img.shape[0])\n",
      "\n",
      "fig0, ax0 = plt.subplots(num=0,figsize=[xsize,ysize])\n",
      "fig0.subplots_adjust(0,0,1,1)\n",
      "ax0.axis('off')\n",
      "# im0 = ax0.imshow(img)\n",
      "im0 = ax0.imshow(im, cmap = 'bone')\n",
      "# im0.set_data((labs[0]==1)*img.mean(-1))\n",
      "fig0.canvas.draw()"
     ],
     "language": "python",
     "metadata": {},
     "outputs": [],
     "prompt_number": 145
    },
    {
     "cell_type": "heading",
     "level": 1,
     "metadata": {},
     "source": [
      "from scipy.stats import itemfreq"
     ]
    },
    {
     "cell_type": "code",
     "collapsed": false,
     "input": [
      "itemfreq(labs[0])"
     ],
     "language": "python",
     "metadata": {},
     "outputs": [
      {
       "metadata": {},
       "output_type": "pyout",
       "prompt_number": 413,
       "text": [
        "array([[     0, 769885],\n",
        "       [     1,  16547]])"
       ]
      }
     ],
     "prompt_number": 413
    },
    {
     "cell_type": "code",
     "collapsed": false,
     "input": [
      "im0.set_data((labs[0]==1)*img.mean(-1))\n",
      "fig0.canvas.draw()"
     ],
     "language": "python",
     "metadata": {},
     "outputs": [],
     "prompt_number": 414
    },
    {
     "cell_type": "code",
     "collapsed": false,
     "input": [
      "ims = []\n",
      "ims.append(bg)\n",
      "ims.append(bg)\n",
      "ims.append(bg)\n",
      "ims.append(bg)\n",
      "ims.append(bg)\n",
      "ims.append(img)\n",
      "for i in range(1,10):\n",
      "    ims.append(np.array(Image.open(df['im'][i])))\n",
      "\n",
      "fgbg = cv2.BackgroundSubtractorMOG()\n",
      "for i in ims: \n",
      "   #img=cv2.flip(img,1)\n",
      "   #img=cv2.medianBlur(img,3)\n",
      "    fgmask = fgbg.apply(i)\n",
      "    im0.set_data(fgmask)\n",
      "    fig0.canvas.draw()"
     ],
     "language": "python",
     "metadata": {},
     "outputs": [],
     "prompt_number": 429
    },
    {
     "cell_type": "code",
     "collapsed": false,
     "input": [
      "Image.open(img)"
     ],
     "language": "python",
     "metadata": {},
     "outputs": [
      {
       "ename": "AttributeError",
       "evalue": "'numpy.ndarray' object has no attribute 'read'",
       "output_type": "pyerr",
       "traceback": [
        "\u001b[0;31m---------------------------------------------------------------------------\u001b[0m\n\u001b[0;31mAttributeError\u001b[0m                            Traceback (most recent call last)",
        "\u001b[0;32m<ipython-input-143-c9665c6ccd07>\u001b[0m in \u001b[0;36m<module>\u001b[0;34m()\u001b[0m\n\u001b[0;32m----> 1\u001b[0;31m \u001b[0mImage\u001b[0m\u001b[0;34m.\u001b[0m\u001b[0mopen\u001b[0m\u001b[0;34m(\u001b[0m\u001b[0mimg\u001b[0m\u001b[0;34m)\u001b[0m\u001b[0;34m\u001b[0m\u001b[0m\n\u001b[0m",
        "\u001b[0;32m/Users/jsm601/envs/my_root/lib/python2.7/site-packages/PIL/Image.pyc\u001b[0m in \u001b[0;36mopen\u001b[0;34m(fp, mode)\u001b[0m\n\u001b[1;32m   1954\u001b[0m         \u001b[0mfilename\u001b[0m \u001b[0;34m=\u001b[0m \u001b[0;34m\"\"\u001b[0m\u001b[0;34m\u001b[0m\u001b[0m\n\u001b[1;32m   1955\u001b[0m \u001b[0;34m\u001b[0m\u001b[0m\n\u001b[0;32m-> 1956\u001b[0;31m     \u001b[0mprefix\u001b[0m \u001b[0;34m=\u001b[0m \u001b[0mfp\u001b[0m\u001b[0;34m.\u001b[0m\u001b[0mread\u001b[0m\u001b[0;34m(\u001b[0m\u001b[0;36m16\u001b[0m\u001b[0;34m)\u001b[0m\u001b[0;34m\u001b[0m\u001b[0m\n\u001b[0m\u001b[1;32m   1957\u001b[0m \u001b[0;34m\u001b[0m\u001b[0m\n\u001b[1;32m   1958\u001b[0m     \u001b[0mpreinit\u001b[0m\u001b[0;34m(\u001b[0m\u001b[0;34m)\u001b[0m\u001b[0;34m\u001b[0m\u001b[0m\n",
        "\u001b[0;31mAttributeError\u001b[0m: 'numpy.ndarray' object has no attribute 'read'"
       ]
      }
     ],
     "prompt_number": 143
    },
    {
     "cell_type": "code",
     "collapsed": false,
     "input": [
      "dfi[len(dfi.T)] = N"
     ],
     "language": "python",
     "metadata": {},
     "outputs": [],
     "prompt_number": 100
    },
    {
     "cell_type": "code",
     "collapsed": false,
     "input": [
      "avdf = pd.DataFrame(columns = dfi.columns.tolist()[:-1])\n",
      "for i in range(4):\n",
      "    avdf.loc[i] = dfi[dfi[12288] == i].mean()[:-1]"
     ],
     "language": "python",
     "metadata": {},
     "outputs": [],
     "prompt_number": 101
    },
    {
     "cell_type": "code",
     "collapsed": false,
     "input": [
      "avdf"
     ],
     "language": "python",
     "metadata": {},
     "outputs": [
      {
       "html": [
        "<div style=\"max-height:1000px;max-width:1500px;overflow:auto;\">\n",
        "<table border=\"1\" class=\"dataframe\">\n",
        "  <thead>\n",
        "    <tr style=\"text-align: right;\">\n",
        "      <th></th>\n",
        "      <th>0</th>\n",
        "      <th>1</th>\n",
        "      <th>2</th>\n",
        "      <th>3</th>\n",
        "      <th>4</th>\n",
        "      <th>5</th>\n",
        "      <th>6</th>\n",
        "      <th>7</th>\n",
        "      <th>8</th>\n",
        "      <th>9</th>\n",
        "      <th>...</th>\n",
        "      <th>12278</th>\n",
        "      <th>12279</th>\n",
        "      <th>12280</th>\n",
        "      <th>12281</th>\n",
        "      <th>12282</th>\n",
        "      <th>12283</th>\n",
        "      <th>12284</th>\n",
        "      <th>12285</th>\n",
        "      <th>12286</th>\n",
        "      <th>12287</th>\n",
        "    </tr>\n",
        "  </thead>\n",
        "  <tbody>\n",
        "    <tr>\n",
        "      <th>0</th>\n",
        "      <td>-0.8873275</td>\n",
        "      <td> -1.229447</td>\n",
        "      <td> -1.126196</td>\n",
        "      <td> -1.184786</td>\n",
        "      <td> -1.247732</td>\n",
        "      <td> -1.296713</td>\n",
        "      <td> -1.220284</td>\n",
        "      <td> -1.187221</td>\n",
        "      <td> -1.326152</td>\n",
        "      <td> -1.324808</td>\n",
        "      <td>...</td>\n",
        "      <td> -1.248147</td>\n",
        "      <td> -1.228211</td>\n",
        "      <td> -1.295909</td>\n",
        "      <td> -1.183234</td>\n",
        "      <td>-0.5855653</td>\n",
        "      <td> -1.365277</td>\n",
        "      <td>  -1.143386</td>\n",
        "      <td>-0.05876962</td>\n",
        "      <td> 0.1937219</td>\n",
        "      <td> -0.0834064</td>\n",
        "    </tr>\n",
        "    <tr>\n",
        "      <th>1</th>\n",
        "      <td> 0.6905403</td>\n",
        "      <td> 0.8016129</td>\n",
        "      <td> 0.8127784</td>\n",
        "      <td> 0.7578148</td>\n",
        "      <td> 0.8046246</td>\n",
        "      <td> 0.8498711</td>\n",
        "      <td> 0.8257494</td>\n",
        "      <td> 0.6935377</td>\n",
        "      <td>  0.764725</td>\n",
        "      <td> 0.8276766</td>\n",
        "      <td>...</td>\n",
        "      <td> 0.5384317</td>\n",
        "      <td> 0.6050808</td>\n",
        "      <td> 0.6168829</td>\n",
        "      <td> 0.6694871</td>\n",
        "      <td> -0.444712</td>\n",
        "      <td> 0.5201072</td>\n",
        "      <td>  0.5643954</td>\n",
        "      <td>  0.4295419</td>\n",
        "      <td> 0.3405781</td>\n",
        "      <td>  0.4578122</td>\n",
        "    </tr>\n",
        "    <tr>\n",
        "      <th>2</th>\n",
        "      <td> 0.3677411</td>\n",
        "      <td> 0.6061329</td>\n",
        "      <td> 0.5916513</td>\n",
        "      <td> 0.6152582</td>\n",
        "      <td> 0.6221313</td>\n",
        "      <td> 0.5809906</td>\n",
        "      <td>   0.76406</td>\n",
        "      <td> 0.6887563</td>\n",
        "      <td> 0.6813339</td>\n",
        "      <td> 0.6682421</td>\n",
        "      <td>...</td>\n",
        "      <td> 0.9964995</td>\n",
        "      <td> 0.9542794</td>\n",
        "      <td> 0.9120175</td>\n",
        "      <td> 0.8704898</td>\n",
        "      <td> 0.1820781</td>\n",
        "      <td> 0.4915354</td>\n",
        "      <td>  0.6063978</td>\n",
        "      <td> -0.1171187</td>\n",
        "      <td>-0.6911807</td>\n",
        "      <td> -0.4563414</td>\n",
        "    </tr>\n",
        "    <tr>\n",
        "      <th>3</th>\n",
        "      <td>-0.1859656</td>\n",
        "      <td>-0.1957255</td>\n",
        "      <td> -0.295903</td>\n",
        "      <td>-0.2047617</td>\n",
        "      <td>-0.1965155</td>\n",
        "      <td>-0.1526239</td>\n",
        "      <td>-0.3874765</td>\n",
        "      <td>-0.2101496</td>\n",
        "      <td>-0.1365309</td>\n",
        "      <td>-0.1891035</td>\n",
        "      <td>...</td>\n",
        "      <td> -0.298489</td>\n",
        "      <td>-0.3443027</td>\n",
        "      <td>-0.2464015</td>\n",
        "      <td>-0.3712968</td>\n",
        "      <td> 0.8578667</td>\n",
        "      <td> 0.3423273</td>\n",
        "      <td>-0.03967633</td>\n",
        "      <td> -0.2629914</td>\n",
        "      <td> 0.1494768</td>\n",
        "      <td> 0.07198317</td>\n",
        "    </tr>\n",
        "  </tbody>\n",
        "</table>\n",
        "<p>4 rows \u00d7 12288 columns</p>\n",
        "</div>"
       ],
       "metadata": {},
       "output_type": "pyout",
       "prompt_number": 102,
       "text": [
        "       0          1          2          3          4          5      \\\n",
        "0 -0.8873275  -1.229447  -1.126196  -1.184786  -1.247732  -1.296713   \n",
        "1  0.6905403  0.8016129  0.8127784  0.7578148  0.8046246  0.8498711   \n",
        "2  0.3677411  0.6061329  0.5916513  0.6152582  0.6221313  0.5809906   \n",
        "3 -0.1859656 -0.1957255  -0.295903 -0.2047617 -0.1965155 -0.1526239   \n",
        "\n",
        "       6          7          8          9        ...          12278  \\\n",
        "0  -1.220284  -1.187221  -1.326152  -1.324808    ...      -1.248147   \n",
        "1  0.8257494  0.6935377   0.764725  0.8276766    ...      0.5384317   \n",
        "2    0.76406  0.6887563  0.6813339  0.6682421    ...      0.9964995   \n",
        "3 -0.3874765 -0.2101496 -0.1365309 -0.1891035    ...      -0.298489   \n",
        "\n",
        "       12279      12280      12281      12282      12283       12284  \\\n",
        "0  -1.228211  -1.295909  -1.183234 -0.5855653  -1.365277   -1.143386   \n",
        "1  0.6050808  0.6168829  0.6694871  -0.444712  0.5201072   0.5643954   \n",
        "2  0.9542794  0.9120175  0.8704898  0.1820781  0.4915354   0.6063978   \n",
        "3 -0.3443027 -0.2464015 -0.3712968  0.8578667  0.3423273 -0.03967633   \n",
        "\n",
        "        12285      12286       12287  \n",
        "0 -0.05876962  0.1937219  -0.0834064  \n",
        "1   0.4295419  0.3405781   0.4578122  \n",
        "2  -0.1171187 -0.6911807  -0.4563414  \n",
        "3  -0.2629914  0.1494768  0.07198317  \n",
        "\n",
        "[4 rows x 12288 columns]"
       ]
      }
     ],
     "prompt_number": 102
    },
    {
     "cell_type": "code",
     "collapsed": false,
     "input": [
      "df4 = pd.DataFrame(columns = range(1), index = range(len(T)))\n",
      "out = []\n",
      "count = 0\n",
      "for j in dfi_test.index.tolist():\n",
      "    avec = []\n",
      "    samp = dfi_test.loc[j]\n",
      "    PT = np.array(avdf.copy())\n",
      "    PT = np.vstack((PT, np.ones(avdf.shape[1])))\n",
      "    P  = PT.transpose()\n",
      "    PTPinv = np.linalg.inv(np.dot(PT,P),)\n",
      "    PTyy = np.dot(PT,samp)\n",
      "    avec = np.dot(PTPinv,PTyy).tolist()[0:4]\n",
      "    out.append(np.argmax(avec))\n",
      "#     avec.append(T[i])\n",
      "#     avec.append(np.argmax(avec[0:10]))\n",
      "#     avec.append(avec[11] == i)\n",
      "#     df4.loc[count] = avec\n",
      "    count+=1\n",
      "out - T"
     ],
     "language": "python",
     "metadata": {},
     "outputs": [
      {
       "output_type": "stream",
       "stream": "stderr",
       "text": [
        "/Users/jsm601/envs/my_root/lib/python2.7/site-packages/numpy/linalg/linalg.py:520: DeprecationWarning: Implicitly casting between incompatible kinds. In a future numpy release, this will raise an error. Use casting=\"unsafe\" if this is intentional.\n",
        "  ainv = _umath_linalg.inv(a, signature=signature, extobj=extobj)\n",
        "\n"
       ]
      },
      {
       "output_type": "stream",
       "stream": "stderr",
       "text": [
        "WARNING:py.warnings:/Users/jsm601/envs/my_root/lib/python2.7/site-packages/numpy/linalg/linalg.py:520: DeprecationWarning: Implicitly casting between incompatible kinds. In a future numpy release, this will raise an error. Use casting=\"unsafe\" if this is intentional.\n",
        "  ainv = _umath_linalg.inv(a, signature=signature, extobj=extobj)\n",
        "\n"
       ]
      },
      {
       "output_type": "stream",
       "stream": "stderr",
       "text": [
        "/Users/jsm601/envs/my_root/lib/python2.7/site-packages/numpy/linalg/linalg.py:520: DeprecationWarning: Implicitly casting between incompatible kinds. In a future numpy release, this will raise an error. Use casting=\"unsafe\" if this is intentional.\n",
        "  ainv = _umath_linalg.inv(a, signature=signature, extobj=extobj)\n",
        "\n"
       ]
      },
      {
       "output_type": "stream",
       "stream": "stderr",
       "text": [
        "WARNING:py.warnings:/Users/jsm601/envs/my_root/lib/python2.7/site-packages/numpy/linalg/linalg.py:520: DeprecationWarning: Implicitly casting between incompatible kinds. In a future numpy release, this will raise an error. Use casting=\"unsafe\" if this is intentional.\n",
        "  ainv = _umath_linalg.inv(a, signature=signature, extobj=extobj)\n",
        "\n"
       ]
      },
      {
       "output_type": "stream",
       "stream": "stderr",
       "text": [
        "/Users/jsm601/envs/my_root/lib/python2.7/site-packages/numpy/linalg/linalg.py:520: DeprecationWarning: Implicitly casting between incompatible kinds. In a future numpy release, this will raise an error. Use casting=\"unsafe\" if this is intentional.\n",
        "  ainv = _umath_linalg.inv(a, signature=signature, extobj=extobj)\n",
        "\n"
       ]
      },
      {
       "output_type": "stream",
       "stream": "stderr",
       "text": [
        "WARNING:py.warnings:/Users/jsm601/envs/my_root/lib/python2.7/site-packages/numpy/linalg/linalg.py:520: DeprecationWarning: Implicitly casting between incompatible kinds. In a future numpy release, this will raise an error. Use casting=\"unsafe\" if this is intentional.\n",
        "  ainv = _umath_linalg.inv(a, signature=signature, extobj=extobj)\n",
        "\n"
       ]
      },
      {
       "output_type": "stream",
       "stream": "stderr",
       "text": [
        "/Users/jsm601/envs/my_root/lib/python2.7/site-packages/numpy/linalg/linalg.py:520: DeprecationWarning: Implicitly casting between incompatible kinds. In a future numpy release, this will raise an error. Use casting=\"unsafe\" if this is intentional.\n",
        "  ainv = _umath_linalg.inv(a, signature=signature, extobj=extobj)\n",
        "\n"
       ]
      },
      {
       "output_type": "stream",
       "stream": "stderr",
       "text": [
        "WARNING:py.warnings:/Users/jsm601/envs/my_root/lib/python2.7/site-packages/numpy/linalg/linalg.py:520: DeprecationWarning: Implicitly casting between incompatible kinds. In a future numpy release, this will raise an error. Use casting=\"unsafe\" if this is intentional.\n",
        "  ainv = _umath_linalg.inv(a, signature=signature, extobj=extobj)\n",
        "\n"
       ]
      },
      {
       "output_type": "stream",
       "stream": "stderr",
       "text": [
        "/Users/jsm601/envs/my_root/lib/python2.7/site-packages/numpy/linalg/linalg.py:520: DeprecationWarning: Implicitly casting between incompatible kinds. In a future numpy release, this will raise an error. Use casting=\"unsafe\" if this is intentional.\n",
        "  ainv = _umath_linalg.inv(a, signature=signature, extobj=extobj)\n",
        "\n"
       ]
      },
      {
       "output_type": "stream",
       "stream": "stderr",
       "text": [
        "WARNING:py.warnings:/Users/jsm601/envs/my_root/lib/python2.7/site-packages/numpy/linalg/linalg.py:520: DeprecationWarning: Implicitly casting between incompatible kinds. In a future numpy release, this will raise an error. Use casting=\"unsafe\" if this is intentional.\n",
        "  ainv = _umath_linalg.inv(a, signature=signature, extobj=extobj)\n",
        "\n"
       ]
      },
      {
       "output_type": "stream",
       "stream": "stderr",
       "text": [
        "/Users/jsm601/envs/my_root/lib/python2.7/site-packages/numpy/linalg/linalg.py:520: DeprecationWarning: Implicitly casting between incompatible kinds. In a future numpy release, this will raise an error. Use casting=\"unsafe\" if this is intentional.\n",
        "  ainv = _umath_linalg.inv(a, signature=signature, extobj=extobj)\n",
        "\n"
       ]
      },
      {
       "output_type": "stream",
       "stream": "stderr",
       "text": [
        "WARNING:py.warnings:/Users/jsm601/envs/my_root/lib/python2.7/site-packages/numpy/linalg/linalg.py:520: DeprecationWarning: Implicitly casting between incompatible kinds. In a future numpy release, this will raise an error. Use casting=\"unsafe\" if this is intentional.\n",
        "  ainv = _umath_linalg.inv(a, signature=signature, extobj=extobj)\n",
        "\n"
       ]
      },
      {
       "output_type": "stream",
       "stream": "stderr",
       "text": [
        "/Users/jsm601/envs/my_root/lib/python2.7/site-packages/numpy/linalg/linalg.py:520: DeprecationWarning: Implicitly casting between incompatible kinds. In a future numpy release, this will raise an error. Use casting=\"unsafe\" if this is intentional.\n",
        "  ainv = _umath_linalg.inv(a, signature=signature, extobj=extobj)\n",
        "\n"
       ]
      },
      {
       "output_type": "stream",
       "stream": "stderr",
       "text": [
        "WARNING:py.warnings:/Users/jsm601/envs/my_root/lib/python2.7/site-packages/numpy/linalg/linalg.py:520: DeprecationWarning: Implicitly casting between incompatible kinds. In a future numpy release, this will raise an error. Use casting=\"unsafe\" if this is intentional.\n",
        "  ainv = _umath_linalg.inv(a, signature=signature, extobj=extobj)\n",
        "\n"
       ]
      },
      {
       "output_type": "stream",
       "stream": "stderr",
       "text": [
        "/Users/jsm601/envs/my_root/lib/python2.7/site-packages/numpy/linalg/linalg.py:520: DeprecationWarning: Implicitly casting between incompatible kinds. In a future numpy release, this will raise an error. Use casting=\"unsafe\" if this is intentional.\n",
        "  ainv = _umath_linalg.inv(a, signature=signature, extobj=extobj)\n",
        "\n"
       ]
      },
      {
       "output_type": "stream",
       "stream": "stderr",
       "text": [
        "WARNING:py.warnings:/Users/jsm601/envs/my_root/lib/python2.7/site-packages/numpy/linalg/linalg.py:520: DeprecationWarning: Implicitly casting between incompatible kinds. In a future numpy release, this will raise an error. Use casting=\"unsafe\" if this is intentional.\n",
        "  ainv = _umath_linalg.inv(a, signature=signature, extobj=extobj)\n",
        "\n"
       ]
      },
      {
       "output_type": "stream",
       "stream": "stderr",
       "text": [
        "/Users/jsm601/envs/my_root/lib/python2.7/site-packages/numpy/linalg/linalg.py:520: DeprecationWarning: Implicitly casting between incompatible kinds. In a future numpy release, this will raise an error. Use casting=\"unsafe\" if this is intentional.\n",
        "  ainv = _umath_linalg.inv(a, signature=signature, extobj=extobj)\n",
        "\n"
       ]
      },
      {
       "output_type": "stream",
       "stream": "stderr",
       "text": [
        "WARNING:py.warnings:/Users/jsm601/envs/my_root/lib/python2.7/site-packages/numpy/linalg/linalg.py:520: DeprecationWarning: Implicitly casting between incompatible kinds. In a future numpy release, this will raise an error. Use casting=\"unsafe\" if this is intentional.\n",
        "  ainv = _umath_linalg.inv(a, signature=signature, extobj=extobj)\n",
        "\n"
       ]
      },
      {
       "output_type": "stream",
       "stream": "stderr",
       "text": [
        "/Users/jsm601/envs/my_root/lib/python2.7/site-packages/numpy/linalg/linalg.py:520: DeprecationWarning: Implicitly casting between incompatible kinds. In a future numpy release, this will raise an error. Use casting=\"unsafe\" if this is intentional.\n",
        "  ainv = _umath_linalg.inv(a, signature=signature, extobj=extobj)\n",
        "\n"
       ]
      },
      {
       "output_type": "stream",
       "stream": "stderr",
       "text": [
        "WARNING:py.warnings:/Users/jsm601/envs/my_root/lib/python2.7/site-packages/numpy/linalg/linalg.py:520: DeprecationWarning: Implicitly casting between incompatible kinds. In a future numpy release, this will raise an error. Use casting=\"unsafe\" if this is intentional.\n",
        "  ainv = _umath_linalg.inv(a, signature=signature, extobj=extobj)\n",
        "\n"
       ]
      },
      {
       "output_type": "stream",
       "stream": "stderr",
       "text": [
        "/Users/jsm601/envs/my_root/lib/python2.7/site-packages/numpy/linalg/linalg.py:520: DeprecationWarning: Implicitly casting between incompatible kinds. In a future numpy release, this will raise an error. Use casting=\"unsafe\" if this is intentional.\n",
        "  ainv = _umath_linalg.inv(a, signature=signature, extobj=extobj)\n",
        "\n"
       ]
      },
      {
       "output_type": "stream",
       "stream": "stderr",
       "text": [
        "WARNING:py.warnings:/Users/jsm601/envs/my_root/lib/python2.7/site-packages/numpy/linalg/linalg.py:520: DeprecationWarning: Implicitly casting between incompatible kinds. In a future numpy release, this will raise an error. Use casting=\"unsafe\" if this is intentional.\n",
        "  ainv = _umath_linalg.inv(a, signature=signature, extobj=extobj)\n",
        "\n"
       ]
      },
      {
       "output_type": "stream",
       "stream": "stderr",
       "text": [
        "/Users/jsm601/envs/my_root/lib/python2.7/site-packages/numpy/linalg/linalg.py:520: DeprecationWarning: Implicitly casting between incompatible kinds. In a future numpy release, this will raise an error. Use casting=\"unsafe\" if this is intentional.\n",
        "  ainv = _umath_linalg.inv(a, signature=signature, extobj=extobj)\n",
        "\n"
       ]
      },
      {
       "output_type": "stream",
       "stream": "stderr",
       "text": [
        "WARNING:py.warnings:/Users/jsm601/envs/my_root/lib/python2.7/site-packages/numpy/linalg/linalg.py:520: DeprecationWarning: Implicitly casting between incompatible kinds. In a future numpy release, this will raise an error. Use casting=\"unsafe\" if this is intentional.\n",
        "  ainv = _umath_linalg.inv(a, signature=signature, extobj=extobj)\n",
        "\n"
       ]
      },
      {
       "output_type": "stream",
       "stream": "stderr",
       "text": [
        "/Users/jsm601/envs/my_root/lib/python2.7/site-packages/numpy/linalg/linalg.py:520: DeprecationWarning: Implicitly casting between incompatible kinds. In a future numpy release, this will raise an error. Use casting=\"unsafe\" if this is intentional.\n",
        "  ainv = _umath_linalg.inv(a, signature=signature, extobj=extobj)\n",
        "\n"
       ]
      },
      {
       "output_type": "stream",
       "stream": "stderr",
       "text": [
        "WARNING:py.warnings:/Users/jsm601/envs/my_root/lib/python2.7/site-packages/numpy/linalg/linalg.py:520: DeprecationWarning: Implicitly casting between incompatible kinds. In a future numpy release, this will raise an error. Use casting=\"unsafe\" if this is intentional.\n",
        "  ainv = _umath_linalg.inv(a, signature=signature, extobj=extobj)\n",
        "\n"
       ]
      },
      {
       "output_type": "stream",
       "stream": "stderr",
       "text": [
        "/Users/jsm601/envs/my_root/lib/python2.7/site-packages/numpy/linalg/linalg.py:520: DeprecationWarning: Implicitly casting between incompatible kinds. In a future numpy release, this will raise an error. Use casting=\"unsafe\" if this is intentional.\n",
        "  ainv = _umath_linalg.inv(a, signature=signature, extobj=extobj)\n",
        "\n"
       ]
      },
      {
       "output_type": "stream",
       "stream": "stderr",
       "text": [
        "WARNING:py.warnings:/Users/jsm601/envs/my_root/lib/python2.7/site-packages/numpy/linalg/linalg.py:520: DeprecationWarning: Implicitly casting between incompatible kinds. In a future numpy release, this will raise an error. Use casting=\"unsafe\" if this is intentional.\n",
        "  ainv = _umath_linalg.inv(a, signature=signature, extobj=extobj)\n",
        "\n"
       ]
      },
      {
       "output_type": "stream",
       "stream": "stderr",
       "text": [
        "/Users/jsm601/envs/my_root/lib/python2.7/site-packages/numpy/linalg/linalg.py:520: DeprecationWarning: Implicitly casting between incompatible kinds. In a future numpy release, this will raise an error. Use casting=\"unsafe\" if this is intentional.\n",
        "  ainv = _umath_linalg.inv(a, signature=signature, extobj=extobj)\n",
        "\n"
       ]
      },
      {
       "output_type": "stream",
       "stream": "stderr",
       "text": [
        "WARNING:py.warnings:/Users/jsm601/envs/my_root/lib/python2.7/site-packages/numpy/linalg/linalg.py:520: DeprecationWarning: Implicitly casting between incompatible kinds. In a future numpy release, this will raise an error. Use casting=\"unsafe\" if this is intentional.\n",
        "  ainv = _umath_linalg.inv(a, signature=signature, extobj=extobj)\n",
        "\n"
       ]
      },
      {
       "output_type": "stream",
       "stream": "stderr",
       "text": [
        "/Users/jsm601/envs/my_root/lib/python2.7/site-packages/numpy/linalg/linalg.py:520: DeprecationWarning: Implicitly casting between incompatible kinds. In a future numpy release, this will raise an error. Use casting=\"unsafe\" if this is intentional.\n",
        "  ainv = _umath_linalg.inv(a, signature=signature, extobj=extobj)\n",
        "\n"
       ]
      },
      {
       "output_type": "stream",
       "stream": "stderr",
       "text": [
        "WARNING:py.warnings:/Users/jsm601/envs/my_root/lib/python2.7/site-packages/numpy/linalg/linalg.py:520: DeprecationWarning: Implicitly casting between incompatible kinds. In a future numpy release, this will raise an error. Use casting=\"unsafe\" if this is intentional.\n",
        "  ainv = _umath_linalg.inv(a, signature=signature, extobj=extobj)\n",
        "\n"
       ]
      },
      {
       "output_type": "stream",
       "stream": "stderr",
       "text": [
        "/Users/jsm601/envs/my_root/lib/python2.7/site-packages/numpy/linalg/linalg.py:520: DeprecationWarning: Implicitly casting between incompatible kinds. In a future numpy release, this will raise an error. Use casting=\"unsafe\" if this is intentional.\n",
        "  ainv = _umath_linalg.inv(a, signature=signature, extobj=extobj)\n",
        "\n"
       ]
      },
      {
       "output_type": "stream",
       "stream": "stderr",
       "text": [
        "WARNING:py.warnings:/Users/jsm601/envs/my_root/lib/python2.7/site-packages/numpy/linalg/linalg.py:520: DeprecationWarning: Implicitly casting between incompatible kinds. In a future numpy release, this will raise an error. Use casting=\"unsafe\" if this is intentional.\n",
        "  ainv = _umath_linalg.inv(a, signature=signature, extobj=extobj)\n",
        "\n"
       ]
      },
      {
       "output_type": "stream",
       "stream": "stderr",
       "text": [
        "/Users/jsm601/envs/my_root/lib/python2.7/site-packages/numpy/linalg/linalg.py:520: DeprecationWarning: Implicitly casting between incompatible kinds. In a future numpy release, this will raise an error. Use casting=\"unsafe\" if this is intentional.\n",
        "  ainv = _umath_linalg.inv(a, signature=signature, extobj=extobj)\n",
        "\n"
       ]
      },
      {
       "output_type": "stream",
       "stream": "stderr",
       "text": [
        "WARNING:py.warnings:/Users/jsm601/envs/my_root/lib/python2.7/site-packages/numpy/linalg/linalg.py:520: DeprecationWarning: Implicitly casting between incompatible kinds. In a future numpy release, this will raise an error. Use casting=\"unsafe\" if this is intentional.\n",
        "  ainv = _umath_linalg.inv(a, signature=signature, extobj=extobj)\n",
        "\n"
       ]
      },
      {
       "output_type": "stream",
       "stream": "stderr",
       "text": [
        "/Users/jsm601/envs/my_root/lib/python2.7/site-packages/numpy/linalg/linalg.py:520: DeprecationWarning: Implicitly casting between incompatible kinds. In a future numpy release, this will raise an error. Use casting=\"unsafe\" if this is intentional.\n",
        "  ainv = _umath_linalg.inv(a, signature=signature, extobj=extobj)\n",
        "\n"
       ]
      },
      {
       "output_type": "stream",
       "stream": "stderr",
       "text": [
        "WARNING:py.warnings:/Users/jsm601/envs/my_root/lib/python2.7/site-packages/numpy/linalg/linalg.py:520: DeprecationWarning: Implicitly casting between incompatible kinds. In a future numpy release, this will raise an error. Use casting=\"unsafe\" if this is intentional.\n",
        "  ainv = _umath_linalg.inv(a, signature=signature, extobj=extobj)\n",
        "\n"
       ]
      },
      {
       "output_type": "stream",
       "stream": "stderr",
       "text": [
        "/Users/jsm601/envs/my_root/lib/python2.7/site-packages/numpy/linalg/linalg.py:520: DeprecationWarning: Implicitly casting between incompatible kinds. In a future numpy release, this will raise an error. Use casting=\"unsafe\" if this is intentional.\n",
        "  ainv = _umath_linalg.inv(a, signature=signature, extobj=extobj)\n",
        "\n"
       ]
      },
      {
       "output_type": "stream",
       "stream": "stderr",
       "text": [
        "WARNING:py.warnings:/Users/jsm601/envs/my_root/lib/python2.7/site-packages/numpy/linalg/linalg.py:520: DeprecationWarning: Implicitly casting between incompatible kinds. In a future numpy release, this will raise an error. Use casting=\"unsafe\" if this is intentional.\n",
        "  ainv = _umath_linalg.inv(a, signature=signature, extobj=extobj)\n",
        "\n"
       ]
      },
      {
       "output_type": "stream",
       "stream": "stderr",
       "text": [
        "/Users/jsm601/envs/my_root/lib/python2.7/site-packages/numpy/linalg/linalg.py:520: DeprecationWarning: Implicitly casting between incompatible kinds. In a future numpy release, this will raise an error. Use casting=\"unsafe\" if this is intentional.\n",
        "  ainv = _umath_linalg.inv(a, signature=signature, extobj=extobj)\n",
        "\n"
       ]
      },
      {
       "output_type": "stream",
       "stream": "stderr",
       "text": [
        "WARNING:py.warnings:/Users/jsm601/envs/my_root/lib/python2.7/site-packages/numpy/linalg/linalg.py:520: DeprecationWarning: Implicitly casting between incompatible kinds. In a future numpy release, this will raise an error. Use casting=\"unsafe\" if this is intentional.\n",
        "  ainv = _umath_linalg.inv(a, signature=signature, extobj=extobj)\n",
        "\n"
       ]
      },
      {
       "output_type": "stream",
       "stream": "stderr",
       "text": [
        "/Users/jsm601/envs/my_root/lib/python2.7/site-packages/numpy/linalg/linalg.py:520: DeprecationWarning: Implicitly casting between incompatible kinds. In a future numpy release, this will raise an error. Use casting=\"unsafe\" if this is intentional.\n",
        "  ainv = _umath_linalg.inv(a, signature=signature, extobj=extobj)\n",
        "\n"
       ]
      },
      {
       "output_type": "stream",
       "stream": "stderr",
       "text": [
        "WARNING:py.warnings:/Users/jsm601/envs/my_root/lib/python2.7/site-packages/numpy/linalg/linalg.py:520: DeprecationWarning: Implicitly casting between incompatible kinds. In a future numpy release, this will raise an error. Use casting=\"unsafe\" if this is intentional.\n",
        "  ainv = _umath_linalg.inv(a, signature=signature, extobj=extobj)\n",
        "\n"
       ]
      },
      {
       "output_type": "stream",
       "stream": "stderr",
       "text": [
        "/Users/jsm601/envs/my_root/lib/python2.7/site-packages/numpy/linalg/linalg.py:520: DeprecationWarning: Implicitly casting between incompatible kinds. In a future numpy release, this will raise an error. Use casting=\"unsafe\" if this is intentional.\n",
        "  ainv = _umath_linalg.inv(a, signature=signature, extobj=extobj)\n",
        "\n"
       ]
      },
      {
       "output_type": "stream",
       "stream": "stderr",
       "text": [
        "WARNING:py.warnings:/Users/jsm601/envs/my_root/lib/python2.7/site-packages/numpy/linalg/linalg.py:520: DeprecationWarning: Implicitly casting between incompatible kinds. In a future numpy release, this will raise an error. Use casting=\"unsafe\" if this is intentional.\n",
        "  ainv = _umath_linalg.inv(a, signature=signature, extobj=extobj)\n",
        "\n"
       ]
      },
      {
       "output_type": "stream",
       "stream": "stderr",
       "text": [
        "/Users/jsm601/envs/my_root/lib/python2.7/site-packages/numpy/linalg/linalg.py:520: DeprecationWarning: Implicitly casting between incompatible kinds. In a future numpy release, this will raise an error. Use casting=\"unsafe\" if this is intentional.\n",
        "  ainv = _umath_linalg.inv(a, signature=signature, extobj=extobj)\n",
        "\n"
       ]
      },
      {
       "output_type": "stream",
       "stream": "stderr",
       "text": [
        "WARNING:py.warnings:/Users/jsm601/envs/my_root/lib/python2.7/site-packages/numpy/linalg/linalg.py:520: DeprecationWarning: Implicitly casting between incompatible kinds. In a future numpy release, this will raise an error. Use casting=\"unsafe\" if this is intentional.\n",
        "  ainv = _umath_linalg.inv(a, signature=signature, extobj=extobj)\n",
        "\n"
       ]
      },
      {
       "output_type": "stream",
       "stream": "stderr",
       "text": [
        "/Users/jsm601/envs/my_root/lib/python2.7/site-packages/numpy/linalg/linalg.py:520: DeprecationWarning: Implicitly casting between incompatible kinds. In a future numpy release, this will raise an error. Use casting=\"unsafe\" if this is intentional.\n",
        "  ainv = _umath_linalg.inv(a, signature=signature, extobj=extobj)\n",
        "\n"
       ]
      },
      {
       "output_type": "stream",
       "stream": "stderr",
       "text": [
        "WARNING:py.warnings:/Users/jsm601/envs/my_root/lib/python2.7/site-packages/numpy/linalg/linalg.py:520: DeprecationWarning: Implicitly casting between incompatible kinds. In a future numpy release, this will raise an error. Use casting=\"unsafe\" if this is intentional.\n",
        "  ainv = _umath_linalg.inv(a, signature=signature, extobj=extobj)\n",
        "\n"
       ]
      },
      {
       "output_type": "stream",
       "stream": "stderr",
       "text": [
        "/Users/jsm601/envs/my_root/lib/python2.7/site-packages/numpy/linalg/linalg.py:520: DeprecationWarning: Implicitly casting between incompatible kinds. In a future numpy release, this will raise an error. Use casting=\"unsafe\" if this is intentional.\n",
        "  ainv = _umath_linalg.inv(a, signature=signature, extobj=extobj)\n",
        "\n"
       ]
      },
      {
       "output_type": "stream",
       "stream": "stderr",
       "text": [
        "WARNING:py.warnings:/Users/jsm601/envs/my_root/lib/python2.7/site-packages/numpy/linalg/linalg.py:520: DeprecationWarning: Implicitly casting between incompatible kinds. In a future numpy release, this will raise an error. Use casting=\"unsafe\" if this is intentional.\n",
        "  ainv = _umath_linalg.inv(a, signature=signature, extobj=extobj)\n",
        "\n"
       ]
      },
      {
       "output_type": "stream",
       "stream": "stderr",
       "text": [
        "/Users/jsm601/envs/my_root/lib/python2.7/site-packages/numpy/linalg/linalg.py:520: DeprecationWarning: Implicitly casting between incompatible kinds. In a future numpy release, this will raise an error. Use casting=\"unsafe\" if this is intentional.\n",
        "  ainv = _umath_linalg.inv(a, signature=signature, extobj=extobj)\n",
        "\n"
       ]
      },
      {
       "output_type": "stream",
       "stream": "stderr",
       "text": [
        "WARNING:py.warnings:/Users/jsm601/envs/my_root/lib/python2.7/site-packages/numpy/linalg/linalg.py:520: DeprecationWarning: Implicitly casting between incompatible kinds. In a future numpy release, this will raise an error. Use casting=\"unsafe\" if this is intentional.\n",
        "  ainv = _umath_linalg.inv(a, signature=signature, extobj=extobj)\n",
        "\n"
       ]
      },
      {
       "output_type": "stream",
       "stream": "stderr",
       "text": [
        "/Users/jsm601/envs/my_root/lib/python2.7/site-packages/numpy/linalg/linalg.py:520: DeprecationWarning: Implicitly casting between incompatible kinds. In a future numpy release, this will raise an error. Use casting=\"unsafe\" if this is intentional.\n",
        "  ainv = _umath_linalg.inv(a, signature=signature, extobj=extobj)\n",
        "\n"
       ]
      },
      {
       "output_type": "stream",
       "stream": "stderr",
       "text": [
        "WARNING:py.warnings:/Users/jsm601/envs/my_root/lib/python2.7/site-packages/numpy/linalg/linalg.py:520: DeprecationWarning: Implicitly casting between incompatible kinds. In a future numpy release, this will raise an error. Use casting=\"unsafe\" if this is intentional.\n",
        "  ainv = _umath_linalg.inv(a, signature=signature, extobj=extobj)\n",
        "\n"
       ]
      },
      {
       "output_type": "stream",
       "stream": "stderr",
       "text": [
        "/Users/jsm601/envs/my_root/lib/python2.7/site-packages/numpy/linalg/linalg.py:520: DeprecationWarning: Implicitly casting between incompatible kinds. In a future numpy release, this will raise an error. Use casting=\"unsafe\" if this is intentional.\n",
        "  ainv = _umath_linalg.inv(a, signature=signature, extobj=extobj)\n",
        "\n"
       ]
      },
      {
       "output_type": "stream",
       "stream": "stderr",
       "text": [
        "WARNING:py.warnings:/Users/jsm601/envs/my_root/lib/python2.7/site-packages/numpy/linalg/linalg.py:520: DeprecationWarning: Implicitly casting between incompatible kinds. In a future numpy release, this will raise an error. Use casting=\"unsafe\" if this is intentional.\n",
        "  ainv = _umath_linalg.inv(a, signature=signature, extobj=extobj)\n",
        "\n"
       ]
      },
      {
       "output_type": "stream",
       "stream": "stderr",
       "text": [
        "/Users/jsm601/envs/my_root/lib/python2.7/site-packages/numpy/linalg/linalg.py:520: DeprecationWarning: Implicitly casting between incompatible kinds. In a future numpy release, this will raise an error. Use casting=\"unsafe\" if this is intentional.\n",
        "  ainv = _umath_linalg.inv(a, signature=signature, extobj=extobj)\n",
        "\n"
       ]
      },
      {
       "output_type": "stream",
       "stream": "stderr",
       "text": [
        "WARNING:py.warnings:/Users/jsm601/envs/my_root/lib/python2.7/site-packages/numpy/linalg/linalg.py:520: DeprecationWarning: Implicitly casting between incompatible kinds. In a future numpy release, this will raise an error. Use casting=\"unsafe\" if this is intentional.\n",
        "  ainv = _umath_linalg.inv(a, signature=signature, extobj=extobj)\n",
        "\n"
       ]
      },
      {
       "output_type": "stream",
       "stream": "stderr",
       "text": [
        "/Users/jsm601/envs/my_root/lib/python2.7/site-packages/numpy/linalg/linalg.py:520: DeprecationWarning: Implicitly casting between incompatible kinds. In a future numpy release, this will raise an error. Use casting=\"unsafe\" if this is intentional.\n",
        "  ainv = _umath_linalg.inv(a, signature=signature, extobj=extobj)\n",
        "\n"
       ]
      },
      {
       "output_type": "stream",
       "stream": "stderr",
       "text": [
        "WARNING:py.warnings:/Users/jsm601/envs/my_root/lib/python2.7/site-packages/numpy/linalg/linalg.py:520: DeprecationWarning: Implicitly casting between incompatible kinds. In a future numpy release, this will raise an error. Use casting=\"unsafe\" if this is intentional.\n",
        "  ainv = _umath_linalg.inv(a, signature=signature, extobj=extobj)\n",
        "\n"
       ]
      },
      {
       "output_type": "stream",
       "stream": "stderr",
       "text": [
        "/Users/jsm601/envs/my_root/lib/python2.7/site-packages/numpy/linalg/linalg.py:520: DeprecationWarning: Implicitly casting between incompatible kinds. In a future numpy release, this will raise an error. Use casting=\"unsafe\" if this is intentional.\n",
        "  ainv = _umath_linalg.inv(a, signature=signature, extobj=extobj)\n",
        "\n"
       ]
      },
      {
       "output_type": "stream",
       "stream": "stderr",
       "text": [
        "WARNING:py.warnings:/Users/jsm601/envs/my_root/lib/python2.7/site-packages/numpy/linalg/linalg.py:520: DeprecationWarning: Implicitly casting between incompatible kinds. In a future numpy release, this will raise an error. Use casting=\"unsafe\" if this is intentional.\n",
        "  ainv = _umath_linalg.inv(a, signature=signature, extobj=extobj)\n",
        "\n"
       ]
      },
      {
       "output_type": "stream",
       "stream": "stderr",
       "text": [
        "/Users/jsm601/envs/my_root/lib/python2.7/site-packages/numpy/linalg/linalg.py:520: DeprecationWarning: Implicitly casting between incompatible kinds. In a future numpy release, this will raise an error. Use casting=\"unsafe\" if this is intentional.\n",
        "  ainv = _umath_linalg.inv(a, signature=signature, extobj=extobj)\n",
        "\n"
       ]
      },
      {
       "output_type": "stream",
       "stream": "stderr",
       "text": [
        "WARNING:py.warnings:/Users/jsm601/envs/my_root/lib/python2.7/site-packages/numpy/linalg/linalg.py:520: DeprecationWarning: Implicitly casting between incompatible kinds. In a future numpy release, this will raise an error. Use casting=\"unsafe\" if this is intentional.\n",
        "  ainv = _umath_linalg.inv(a, signature=signature, extobj=extobj)\n",
        "\n"
       ]
      },
      {
       "output_type": "stream",
       "stream": "stderr",
       "text": [
        "/Users/jsm601/envs/my_root/lib/python2.7/site-packages/numpy/linalg/linalg.py:520: DeprecationWarning: Implicitly casting between incompatible kinds. In a future numpy release, this will raise an error. Use casting=\"unsafe\" if this is intentional.\n",
        "  ainv = _umath_linalg.inv(a, signature=signature, extobj=extobj)\n",
        "\n"
       ]
      },
      {
       "output_type": "stream",
       "stream": "stderr",
       "text": [
        "WARNING:py.warnings:/Users/jsm601/envs/my_root/lib/python2.7/site-packages/numpy/linalg/linalg.py:520: DeprecationWarning: Implicitly casting between incompatible kinds. In a future numpy release, this will raise an error. Use casting=\"unsafe\" if this is intentional.\n",
        "  ainv = _umath_linalg.inv(a, signature=signature, extobj=extobj)\n",
        "\n"
       ]
      },
      {
       "output_type": "stream",
       "stream": "stderr",
       "text": [
        "/Users/jsm601/envs/my_root/lib/python2.7/site-packages/numpy/linalg/linalg.py:520: DeprecationWarning: Implicitly casting between incompatible kinds. In a future numpy release, this will raise an error. Use casting=\"unsafe\" if this is intentional.\n",
        "  ainv = _umath_linalg.inv(a, signature=signature, extobj=extobj)\n",
        "\n"
       ]
      },
      {
       "output_type": "stream",
       "stream": "stderr",
       "text": [
        "WARNING:py.warnings:/Users/jsm601/envs/my_root/lib/python2.7/site-packages/numpy/linalg/linalg.py:520: DeprecationWarning: Implicitly casting between incompatible kinds. In a future numpy release, this will raise an error. Use casting=\"unsafe\" if this is intentional.\n",
        "  ainv = _umath_linalg.inv(a, signature=signature, extobj=extobj)\n",
        "\n"
       ]
      },
      {
       "output_type": "stream",
       "stream": "stderr",
       "text": [
        "/Users/jsm601/envs/my_root/lib/python2.7/site-packages/numpy/linalg/linalg.py:520: DeprecationWarning: Implicitly casting between incompatible kinds. In a future numpy release, this will raise an error. Use casting=\"unsafe\" if this is intentional.\n",
        "  ainv = _umath_linalg.inv(a, signature=signature, extobj=extobj)\n",
        "\n"
       ]
      },
      {
       "output_type": "stream",
       "stream": "stderr",
       "text": [
        "WARNING:py.warnings:/Users/jsm601/envs/my_root/lib/python2.7/site-packages/numpy/linalg/linalg.py:520: DeprecationWarning: Implicitly casting between incompatible kinds. In a future numpy release, this will raise an error. Use casting=\"unsafe\" if this is intentional.\n",
        "  ainv = _umath_linalg.inv(a, signature=signature, extobj=extobj)\n",
        "\n"
       ]
      },
      {
       "output_type": "stream",
       "stream": "stderr",
       "text": [
        "/Users/jsm601/envs/my_root/lib/python2.7/site-packages/numpy/linalg/linalg.py:520: DeprecationWarning: Implicitly casting between incompatible kinds. In a future numpy release, this will raise an error. Use casting=\"unsafe\" if this is intentional.\n",
        "  ainv = _umath_linalg.inv(a, signature=signature, extobj=extobj)\n",
        "\n"
       ]
      },
      {
       "output_type": "stream",
       "stream": "stderr",
       "text": [
        "WARNING:py.warnings:/Users/jsm601/envs/my_root/lib/python2.7/site-packages/numpy/linalg/linalg.py:520: DeprecationWarning: Implicitly casting between incompatible kinds. In a future numpy release, this will raise an error. Use casting=\"unsafe\" if this is intentional.\n",
        "  ainv = _umath_linalg.inv(a, signature=signature, extobj=extobj)\n",
        "\n"
       ]
      },
      {
       "output_type": "stream",
       "stream": "stderr",
       "text": [
        "/Users/jsm601/envs/my_root/lib/python2.7/site-packages/numpy/linalg/linalg.py:520: DeprecationWarning: Implicitly casting between incompatible kinds. In a future numpy release, this will raise an error. Use casting=\"unsafe\" if this is intentional.\n",
        "  ainv = _umath_linalg.inv(a, signature=signature, extobj=extobj)\n",
        "\n"
       ]
      },
      {
       "output_type": "stream",
       "stream": "stderr",
       "text": [
        "WARNING:py.warnings:/Users/jsm601/envs/my_root/lib/python2.7/site-packages/numpy/linalg/linalg.py:520: DeprecationWarning: Implicitly casting between incompatible kinds. In a future numpy release, this will raise an error. Use casting=\"unsafe\" if this is intentional.\n",
        "  ainv = _umath_linalg.inv(a, signature=signature, extobj=extobj)\n",
        "\n"
       ]
      },
      {
       "output_type": "stream",
       "stream": "stderr",
       "text": [
        "/Users/jsm601/envs/my_root/lib/python2.7/site-packages/numpy/linalg/linalg.py:520: DeprecationWarning: Implicitly casting between incompatible kinds. In a future numpy release, this will raise an error. Use casting=\"unsafe\" if this is intentional.\n",
        "  ainv = _umath_linalg.inv(a, signature=signature, extobj=extobj)\n",
        "\n"
       ]
      },
      {
       "output_type": "stream",
       "stream": "stderr",
       "text": [
        "WARNING:py.warnings:/Users/jsm601/envs/my_root/lib/python2.7/site-packages/numpy/linalg/linalg.py:520: DeprecationWarning: Implicitly casting between incompatible kinds. In a future numpy release, this will raise an error. Use casting=\"unsafe\" if this is intentional.\n",
        "  ainv = _umath_linalg.inv(a, signature=signature, extobj=extobj)\n",
        "\n"
       ]
      },
      {
       "output_type": "stream",
       "stream": "stderr",
       "text": [
        "/Users/jsm601/envs/my_root/lib/python2.7/site-packages/numpy/linalg/linalg.py:520: DeprecationWarning: Implicitly casting between incompatible kinds. In a future numpy release, this will raise an error. Use casting=\"unsafe\" if this is intentional.\n",
        "  ainv = _umath_linalg.inv(a, signature=signature, extobj=extobj)\n",
        "\n"
       ]
      },
      {
       "output_type": "stream",
       "stream": "stderr",
       "text": [
        "WARNING:py.warnings:/Users/jsm601/envs/my_root/lib/python2.7/site-packages/numpy/linalg/linalg.py:520: DeprecationWarning: Implicitly casting between incompatible kinds. In a future numpy release, this will raise an error. Use casting=\"unsafe\" if this is intentional.\n",
        "  ainv = _umath_linalg.inv(a, signature=signature, extobj=extobj)\n",
        "\n"
       ]
      },
      {
       "metadata": {},
       "output_type": "pyout",
       "prompt_number": 110,
       "text": [
        "354     0\n",
        "100     0\n",
        "112     0\n",
        "426     0\n",
        "459     0\n",
        "39      0\n",
        "386     0\n",
        "168     0\n",
        "427     0\n",
        "489     0\n",
        "872     0\n",
        "650     0\n",
        "861     0\n",
        "972     0\n",
        "950     0\n",
        "630     0\n",
        "933     0\n",
        "837     0\n",
        "920     0\n",
        "864     0\n",
        "1356    0\n",
        "1304    0\n",
        "1519    0\n",
        "1365    0\n",
        "1144    0\n",
        "1396    0\n",
        "1192    0\n",
        "1510    0\n",
        "1421    0\n",
        "1230    0\n",
        "1869    0\n",
        "1937    0\n",
        "2029    0\n",
        "1719    0\n",
        "1550    0\n",
        "1540    0\n",
        "1768    0\n",
        "1824    0\n",
        "1633    0\n",
        "2001    0\n",
        "Name: class, dtype: float64"
       ]
      }
     ],
     "prompt_number": 110
    }
   ],
   "metadata": {}
  }
 ]
}