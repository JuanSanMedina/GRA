{
 "metadata": {
  "name": "",
  "signature": "sha256:f2c53cbd27fc3bff18ef48d8cfb9ec31c13587032bb8ec80486c59c367c2c31d"
 },
 "nbformat": 3,
 "nbformat_minor": 0,
 "worksheets": [
  {
   "cells": [
    {
     "cell_type": "code",
     "collapsed": false,
     "input": [
      "# Add path where ecan application resides\n",
      "import sys\n",
      "sys.path.append('../..')\n",
      "\n",
      "# Path where media resides\n",
      "media_path = 'api/site_media/media/'"
     ],
     "language": "python",
     "metadata": {},
     "outputs": [],
     "prompt_number": 4
    },
    {
     "cell_type": "code",
     "collapsed": false,
     "input": [
      "# needed to use foreing keys in models\n",
      "import django\n",
      "django.setup()"
     ],
     "language": "python",
     "metadata": {},
     "outputs": [],
     "prompt_number": 5
    },
    {
     "cell_type": "code",
     "collapsed": false,
     "input": [
      "import os\n",
      "from sklearn.metrics import confusion_matrix\n",
      "import matplotlib.pyplot as plt\n",
      "from skimage import color, exposure\n",
      "from PIL import Image\n",
      "from skimage.feature import hog\n",
      "from datetime import datetime\n",
      "# import time\n",
      "# import pandas as pd\n",
      "# import numpy as np\n",
      "# from sklearn.ensemble import RandomForestClassifier "
     ],
     "language": "python",
     "metadata": {},
     "outputs": [],
     "prompt_number": 6
    },
    {
     "cell_type": "code",
     "collapsed": false,
     "input": [
      "from ecan.models import Item, Feature"
     ],
     "language": "python",
     "metadata": {},
     "outputs": [],
     "prompt_number": 7
    },
    {
     "cell_type": "code",
     "collapsed": false,
     "input": [
      "Items = Item.objects.all()\n",
      "Features = Feature.objects.all()"
     ],
     "language": "python",
     "metadata": {},
     "outputs": [],
     "prompt_number": 8
    },
    {
     "cell_type": "code",
     "collapsed": false,
     "input": [
      "d = {\n",
      "    'cells_per_block':(1, 1),\n",
      "    'orientations': 8,\n",
      "    'pixels_per_cell': (12, 12),\n",
      "    'normalise': True,\n",
      "    'visualise': False\n",
      "}\n",
      "name = 'hog_032415'\n",
      "\n",
      "for item in Items:\n",
      "    img = item.im.path.encode('ascii','replace')\n",
      "    img = Image.open(img).convert('L')\n",
      "    img = np.array(img)\n",
      "    ft = hog(img, **d)\n",
      "    feat = Feature(\n",
      "        name=name,\n",
      "        description = d,\n",
      "        feature=ft,\n",
      "        item=item\n",
      "    )\n",
      "    feat.save(force_insert=True)\n",
      "    \n",
      "    "
     ],
     "language": "python",
     "metadata": {},
     "outputs": [],
     "prompt_number": 19
    },
    {
     "cell_type": "code",
     "collapsed": false,
     "input": [
      "ims = [e.im.path.encode('ascii','replace') for e in Items] \n",
      "img = Image.open(ims[100]).convert('L')\n",
      "img = np.array(img)\n",
      "img = color.rgb2gray(np.array(Image.open(ims[20])))\n",
      "fd, hog_image = hog(img, orientations=8, pixels_per_cell=(12, 12),\n",
      "                    cells_per_block=(1, 1), visualise=True, normalise=True)\n",
      "\n",
      "fig, (ax1, ax2) = plt.subplots(1, 2, figsize=(16, 8))\n",
      "\n",
      "ax1.axis('off')\n",
      "ax1.imshow(img, cmap=plt.cm.gray)\n",
      "ax1.set_title('Input image')\n",
      "\n",
      "# Rescale histogram for better display\n",
      "hog_image_rescaled = exposure.rescale_intensity(hog_image, in_range=(0, 0.02))\n",
      "\n",
      "ax2.axis('off')\n",
      "ax2.imshow(hog_image_rescaled, cmap=plt.cm.gray)\n",
      "ax2.set_title('Histogram of Oriented Gradients')\n",
      "plt.show()"
     ],
     "language": "python",
     "metadata": {},
     "outputs": [],
     "prompt_number": 12
    },
    {
     "cell_type": "code",
     "collapsed": false,
     "input": [
      "Image.SAVE?"
     ],
     "language": "python",
     "metadata": {},
     "outputs": [],
     "prompt_number": 20
    },
    {
     "cell_type": "code",
     "collapsed": false,
     "input": [],
     "language": "python",
     "metadata": {},
     "outputs": []
    }
   ],
   "metadata": {}
  }
 ]
}