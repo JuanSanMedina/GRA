{
 "metadata": {
  "name": "",
  "signature": "sha256:c883019476125dad47d2d0dd7e7056714f1423e9603e2ba607be62b644e3fbc3"
 },
 "nbformat": 3,
 "nbformat_minor": 0,
 "worksheets": [
  {
   "cells": [
    {
     "cell_type": "code",
     "collapsed": false,
     "input": [
      "# Add path where ecan application resides\n",
      "import sys\n",
      "sys.path.append('..')\n",
      "\n",
      "# Path where media resides\n",
      "media_path = 'api/site_media/media/'"
     ],
     "language": "python",
     "metadata": {},
     "outputs": [],
     "prompt_number": 1
    },
    {
     "cell_type": "code",
     "collapsed": false,
     "input": [
      "# needed to use foreing keys in models\n",
      "import django\n",
      "django.setup()"
     ],
     "language": "python",
     "metadata": {},
     "outputs": [],
     "prompt_number": 2
    },
    {
     "cell_type": "code",
     "collapsed": false,
     "input": [
      "import os\n",
      "from sklearn.metrics import confusion_matrix\n",
      "import matplotlib.pyplot as plt\n",
      "from skimage import color, exposure\n",
      "from PIL import Image\n",
      "from skimage.feature import hog\n",
      "# import time\n",
      "# import pandas as pd\n",
      "# import numpy as np\n",
      "# from sklearn.ensemble import RandomForestClassifier "
     ],
     "language": "python",
     "metadata": {},
     "outputs": [],
     "prompt_number": 3
    },
    {
     "cell_type": "code",
     "collapsed": false,
     "input": [
      "from ecan.models import Item, Feature"
     ],
     "language": "python",
     "metadata": {},
     "outputs": [],
     "prompt_number": 4
    },
    {
     "cell_type": "markdown",
     "metadata": {},
     "source": [
      "objects = Item.objects.all()"
     ]
    },
    {
     "cell_type": "code",
     "collapsed": false,
     "input": [
      "ims = [e.im.path.encode('ascii','replace') for e in objects] "
     ],
     "language": "python",
     "metadata": {},
     "outputs": [],
     "prompt_number": 6
    },
    {
     "cell_type": "code",
     "collapsed": false,
     "input": [
      "img = Image.open(ims[0]).convert('L')\n",
      "img = np.array(img)"
     ],
     "language": "python",
     "metadata": {},
     "outputs": [],
     "prompt_number": 7
    },
    {
     "cell_type": "code",
     "collapsed": false,
     "input": [
      "img = color.rgb2gray(np.array(Image.open(ims[30])))\n",
      "fd, hog_image = hog(img, orientations=8, pixels_per_cell=(12, 12),\n",
      "                    cells_per_block=(1, 1), visualise=True, normalise=True)\n",
      "\n",
      "fig, (ax1, ax2) = plt.subplots(1, 2, figsize=(16, 8))\n",
      "\n",
      "ax1.axis('off')\n",
      "ax1.imshow(img, cmap=plt.cm.gray)\n",
      "ax1.set_title('Input image')\n",
      "\n",
      "# Rescale histogram for better display\n",
      "hog_image_rescaled = exposure.rescale_intensity(hog_image, in_range=(0, 0.02))\n",
      "\n",
      "ax2.axis('off')\n",
      "ax2.imshow(hog_image_rescaled, cmap=plt.cm.gray)\n",
      "ax2.set_title('Histogram of Oriented Gradients')\n",
      "plt.show()"
     ],
     "language": "python",
     "metadata": {},
     "outputs": [],
     "prompt_number": 8
    },
    {
     "cell_type": "code",
     "collapsed": false,
     "input": [
      "fd.shape"
     ],
     "language": "python",
     "metadata": {},
     "outputs": [
      {
       "metadata": {},
       "output_type": "pyout",
       "prompt_number": 9,
       "text": [
        "(43520,)"
       ]
      }
     ],
     "prompt_number": 9
    },
    {
     "cell_type": "code",
     "collapsed": false,
     "input": [
      "d = {\n",
      "    'cells_per_block':(1, 1),\n",
      "    'orientations': 8,\n",
      "    'pixels_per_cell': (12, 12),\n",
      "    'normalise': True,\n",
      "    'visualise': False\n",
      "}\n",
      "e = Feature(\n",
      "    name='hog',\n",
      "    description = d,\n",
      "    feature=fd,\n",
      "    item=objects[0]\n",
      ")\n",
      "# e.save(force_insert=True)"
     ],
     "language": "python",
     "metadata": {},
     "outputs": [],
     "prompt_number": 21
    },
    {
     "cell_type": "code",
     "collapsed": false,
     "input": [],
     "language": "python",
     "metadata": {},
     "outputs": [
      {
       "metadata": {},
       "output_type": "pyout",
       "prompt_number": 18,
       "text": [
        "8"
       ]
      }
     ],
     "prompt_number": 18
    },
    {
     "cell_type": "code",
     "collapsed": false,
     "input": [
      "fd = hog(img, **d)"
     ],
     "language": "python",
     "metadata": {},
     "outputs": [],
     "prompt_number": 22
    },
    {
     "cell_type": "code",
     "collapsed": false,
     "input": [
      "fd"
     ],
     "language": "python",
     "metadata": {},
     "outputs": [
      {
       "metadata": {},
       "output_type": "pyout",
       "prompt_number": 23,
       "text": [
        "array([ 0.16841068,  0.04021376,  0.15783581, ...,  0.12722761,\n",
        "        0.06888275,  0.03878886])"
       ]
      }
     ],
     "prompt_number": 23
    },
    {
     "cell_type": "code",
     "collapsed": false,
     "input": [],
     "language": "python",
     "metadata": {},
     "outputs": []
    }
   ],
   "metadata": {}
  }
 ]
}