{
 "metadata": {
  "name": "",
  "signature": "sha256:4e9f081e9eece249ffe088bbfd20692d30c31f750176ef891f842382a2d0ec0d"
 },
 "nbformat": 3,
 "nbformat_minor": 0,
 "worksheets": [
  {
   "cells": [
    {
     "cell_type": "code",
     "collapsed": false,
     "input": [
      "# Add path where ecan application resides\n",
      "import sys\n",
      "sys.path.append('../..')\n",
      "\n",
      "# Path where media resides\n",
      "media_path = 'api/site_media/media/'"
     ],
     "language": "python",
     "metadata": {},
     "outputs": [],
     "prompt_number": 1
    },
    {
     "cell_type": "code",
     "collapsed": false,
     "input": [
      "# needed to use foreing keys in models\n",
      "import django\n",
      "django.setup()"
     ],
     "language": "python",
     "metadata": {},
     "outputs": [],
     "prompt_number": 2
    },
    {
     "cell_type": "code",
     "collapsed": false,
     "input": [
      "import os\n",
      "from sklearn.metrics import confusion_matrix\n",
      "import matplotlib.pyplot as plt\n",
      "\n",
      "from skimage import color, exposure\n",
      "from PIL import Image\n",
      "from skimage.feature import hog\n",
      "\n",
      "from datetime import datetime\n",
      "import time\n",
      "\n",
      "import pandas as pd\n",
      "import numpy as np\n",
      "\n",
      "from sklearn import svm\n",
      "from sklearn.ensemble import RandomForestClassifier \n",
      "from sklearn import cross_validation\n",
      "from sklearn import metrics\n",
      "from sklearn import preprocessing"
     ],
     "language": "python",
     "metadata": {},
     "outputs": [],
     "prompt_number": 3
    },
    {
     "cell_type": "code",
     "collapsed": false,
     "input": [
      "from ecan.models import Item, Feature, Common_Name, Material, Shape, Logo"
     ],
     "language": "python",
     "metadata": {},
     "outputs": [],
     "prompt_number": 4
    },
    {
     "cell_type": "code",
     "collapsed": false,
     "input": [
      "hogs = Feature.objects.filter(name='hog_032415')\n",
      "pixs = Feature.objects.filter(name='thumb_1:8')"
     ],
     "language": "python",
     "metadata": {},
     "outputs": [],
     "prompt_number": 5
    },
    {
     "cell_type": "code",
     "collapsed": false,
     "input": [
      "target_matrix = np.array([\n",
      "                [e.item.common_name.value,\n",
      "                e.item.material.value,\n",
      "                e.item.shape.value,\n",
      "                e.item.logo.value] for e in hogs])"
     ],
     "language": "python",
     "metadata": {},
     "outputs": [],
     "prompt_number": 6
    },
    {
     "cell_type": "code",
     "collapsed": false,
     "input": [
      "le = preprocessing.LabelEncoder()\n",
      "le.fit(target_matrix[:,0])\n",
      "target = le.transform(target_matrix[:,0])\n",
      "# le.inverse_transform(np.unique(target))"
     ],
     "language": "python",
     "metadata": {},
     "outputs": [],
     "prompt_number": 22
    },
    {
     "cell_type": "code",
     "collapsed": false,
     "input": [
      "h_data = np.array([e.feature for e in hogs])\n",
      "p_data = np.array([e.feature for e in pixs])"
     ],
     "language": "python",
     "metadata": {},
     "outputs": [],
     "prompt_number": 23
    },
    {
     "cell_type": "markdown",
     "metadata": {},
     "source": [
      "##Random Forest\n",
      "####Hog"
     ]
    },
    {
     "cell_type": "code",
     "collapsed": false,
     "input": [
      "h_rf_clf = RandomForestClassifier(n_estimators = 100)\n",
      "h_rf_scores = cross_validation.cross_val_score(h_rf_clf, h_data, target.tolist(), cv=10)\n",
      "print h_rf_scores"
     ],
     "language": "python",
     "metadata": {},
     "outputs": []
    },
    {
     "cell_type": "markdown",
     "metadata": {},
     "source": [
      "####Pixel"
     ]
    },
    {
     "cell_type": "code",
     "collapsed": false,
     "input": [
      "p_rf_clf = RandomForestClassifier(n_estimators = 100)\n",
      "p_rf_scores = cross_validation.cross_val_score(p_rf_clf, p_data, target.tolist(), cv=10)\n",
      "print p_rf_scores"
     ],
     "language": "python",
     "metadata": {},
     "outputs": []
    },
    {
     "cell_type": "markdown",
     "metadata": {},
     "source": [
      "###SVM with rbf\n",
      "Hog"
     ]
    },
    {
     "cell_type": "code",
     "collapsed": false,
     "input": [
      "h_svm_clf = svm.SVC()\n",
      "h_svm_scores = cross_validation.cross_val_score(h_svm_clf, h_data, target.tolist(), cv=10)\n",
      "print h_svm_scores"
     ],
     "language": "python",
     "metadata": {},
     "outputs": []
    },
    {
     "cell_type": "markdown",
     "metadata": {},
     "source": [
      "Pixel"
     ]
    },
    {
     "cell_type": "code",
     "collapsed": false,
     "input": [
      "p_svm_clf = svm.SVC()\n",
      "p_svm_scores = cross_validation.cross_val_score(p_svm_clf, h_data, target.tolist(), cv=10)\n",
      "print p_svm_scores"
     ],
     "language": "python",
     "metadata": {},
     "outputs": []
    }
   ],
   "metadata": {}
  }
 ]
}